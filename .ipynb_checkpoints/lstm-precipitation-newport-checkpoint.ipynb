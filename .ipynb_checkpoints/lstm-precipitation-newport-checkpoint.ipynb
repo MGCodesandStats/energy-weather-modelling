{
 "cells": [
  {
   "cell_type": "markdown",
   "metadata": {},
   "source": [
    "# Forecasting Precipitation Levels with LSTM\n",
    "\n",
    "In this example, the LSTM model is used to forecast precipitation levels for Newport, Ireland.\n",
    "\n",
    "The dataset uses monthly precipitation levels ranging from November 1959 - December 2019."
   ]
  },
  {
   "cell_type": "markdown",
   "metadata": {},
   "source": [
    "#### Attributions\n",
    "\n",
    "The below code uses the LSTM model from the TensorFlow library, of which the original authors **(Copyright 2019 The TensorFlow Authors)** have made available under the Apache 2.0 license. Modifications have been made where appropriate for conducting analysis on the dataset specific to this example.\n",
    "\n",
    "The weather data used in this example is sourced from the [Met Eireann](https://www.met.ie/climate/available-data/historical-data) website.\n",
    "\n",
    "The below work and findings are not endorsed by the original authors in any way."
   ]
  },
  {
   "cell_type": "markdown",
   "metadata": {},
   "source": [
    "#### Apache 2.0 License"
   ]
  },
  {
   "cell_type": "code",
   "execution_count": 1,
   "metadata": {},
   "outputs": [],
   "source": [
    "#@title Licensed under the Apache License, Version 2.0 (the \"License\"); { display-mode: \"form\" }\n",
    "# you may not use this file except in compliance with the License.\n",
    "# You may obtain a copy of the License at\n",
    "#\n",
    "# https://www.apache.org/licenses/LICENSE-2.0\n",
    "#\n",
    "# Unless required by applicable law or agreed to in writing, software\n",
    "# distributed under the License is distributed on an \"AS IS\" BASIS,\n",
    "# WITHOUT WARRANTIES OR CONDITIONS OF ANY KIND, either express or implied.\n",
    "# See the License for the specific language governing permissions and\n",
    "# limitations under the License."
   ]
  },
  {
   "cell_type": "markdown",
   "metadata": {},
   "source": [
    "## Python version"
   ]
  },
  {
   "cell_type": "code",
   "execution_count": 2,
   "metadata": {},
   "outputs": [
    {
     "name": "stdout",
     "output_type": "stream",
     "text": [
      "3.8.10\n"
     ]
    }
   ],
   "source": [
    "from platform import python_version\n",
    "print(python_version())"
   ]
  },
  {
   "cell_type": "markdown",
   "metadata": {},
   "source": [
    "## Import Libraries"
   ]
  },
  {
   "cell_type": "code",
   "execution_count": 3,
   "metadata": {},
   "outputs": [
    {
     "name": "stderr",
     "output_type": "stream",
     "text": [
      "2023-04-18 02:23:13.721376: I tensorflow/tsl/cuda/cudart_stub.cc:28] Could not find cuda drivers on your machine, GPU will not be used.\n",
      "2023-04-18 02:23:13.779484: I tensorflow/tsl/cuda/cudart_stub.cc:28] Could not find cuda drivers on your machine, GPU will not be used.\n",
      "2023-04-18 02:23:13.780320: I tensorflow/core/platform/cpu_feature_guard.cc:182] This TensorFlow binary is optimized to use available CPU instructions in performance-critical operations.\n",
      "To enable the following instructions: AVX2 FMA, in other operations, rebuild TensorFlow with the appropriate compiler flags.\n",
      "2023-04-18 02:23:14.800508: W tensorflow/compiler/tf2tensorrt/utils/py_utils.cc:38] TF-TRT Warning: Could not find TensorRT\n"
     ]
    },
    {
     "name": "stdout",
     "output_type": "stream",
     "text": [
      "2.12.0\n"
     ]
    }
   ],
   "source": [
    "import tensorflow\n",
    "print(tensorflow.__version__)"
   ]
  },
  {
   "cell_type": "code",
   "execution_count": 4,
   "metadata": {},
   "outputs": [],
   "source": [
    "tensorflow.random.set_seed(1234)"
   ]
  },
  {
   "cell_type": "code",
   "execution_count": 5,
   "metadata": {},
   "outputs": [],
   "source": [
    "import csv\n",
    "import matplotlib.pyplot as plt\n",
    "import math\n",
    "import numpy as np\n",
    "import os\n",
    "import pandas as pd\n",
    "import random\n",
    "import statsmodels.api as sm\n",
    "import statsmodels.formula.api as smf\n",
    "import tensorflow as tf\n",
    "\n",
    "from math import sqrt\n",
    "\n",
    "from numpy.random import seed\n",
    "seed(1)\n",
    "\n",
    "from sklearn.metrics import mean_squared_error\n",
    "from sklearn.model_selection import train_test_split\n",
    "from sklearn.preprocessing import MinMaxScaler\n",
    "\n",
    "from statsmodels.tsa.stattools import adfuller\n",
    "\n",
    "from tensorflow.keras import layers\n",
    "from tensorflow.keras.layers import Dense\n",
    "from tensorflow.keras.layers import LSTM"
   ]
  },
  {
   "cell_type": "markdown",
   "metadata": {},
   "source": [
    "## Import Data"
   ]
  },
  {
   "cell_type": "code",
   "execution_count": 6,
   "metadata": {},
   "outputs": [
    {
     "data": {
      "text/html": [
       "<div>\n",
       "<style scoped>\n",
       "    .dataframe tbody tr th:only-of-type {\n",
       "        vertical-align: middle;\n",
       "    }\n",
       "\n",
       "    .dataframe tbody tr th {\n",
       "        vertical-align: top;\n",
       "    }\n",
       "\n",
       "    .dataframe thead th {\n",
       "        text-align: right;\n",
       "    }\n",
       "</style>\n",
       "<table border=\"1\" class=\"dataframe\">\n",
       "  <thead>\n",
       "    <tr style=\"text-align: right;\">\n",
       "      <th></th>\n",
       "      <th>year</th>\n",
       "      <th>month</th>\n",
       "      <th>rain</th>\n",
       "    </tr>\n",
       "  </thead>\n",
       "  <tbody>\n",
       "    <tr>\n",
       "      <th>0</th>\n",
       "      <td>1959</td>\n",
       "      <td>11</td>\n",
       "      <td>193.0</td>\n",
       "    </tr>\n",
       "    <tr>\n",
       "      <th>1</th>\n",
       "      <td>1959</td>\n",
       "      <td>12</td>\n",
       "      <td>295.4</td>\n",
       "    </tr>\n",
       "    <tr>\n",
       "      <th>2</th>\n",
       "      <td>1960</td>\n",
       "      <td>1</td>\n",
       "      <td>127.9</td>\n",
       "    </tr>\n",
       "    <tr>\n",
       "      <th>3</th>\n",
       "      <td>1960</td>\n",
       "      <td>2</td>\n",
       "      <td>106.1</td>\n",
       "    </tr>\n",
       "    <tr>\n",
       "      <th>4</th>\n",
       "      <td>1960</td>\n",
       "      <td>3</td>\n",
       "      <td>53.9</td>\n",
       "    </tr>\n",
       "    <tr>\n",
       "      <th>...</th>\n",
       "      <td>...</td>\n",
       "      <td>...</td>\n",
       "      <td>...</td>\n",
       "    </tr>\n",
       "    <tr>\n",
       "      <th>717</th>\n",
       "      <td>2019</td>\n",
       "      <td>8</td>\n",
       "      <td>221.9</td>\n",
       "    </tr>\n",
       "    <tr>\n",
       "      <th>718</th>\n",
       "      <td>2019</td>\n",
       "      <td>9</td>\n",
       "      <td>166.3</td>\n",
       "    </tr>\n",
       "    <tr>\n",
       "      <th>719</th>\n",
       "      <td>2019</td>\n",
       "      <td>10</td>\n",
       "      <td>152.0</td>\n",
       "    </tr>\n",
       "    <tr>\n",
       "      <th>720</th>\n",
       "      <td>2019</td>\n",
       "      <td>11</td>\n",
       "      <td>142.5</td>\n",
       "    </tr>\n",
       "    <tr>\n",
       "      <th>721</th>\n",
       "      <td>2019</td>\n",
       "      <td>12</td>\n",
       "      <td>217.3</td>\n",
       "    </tr>\n",
       "  </tbody>\n",
       "</table>\n",
       "<p>722 rows × 3 columns</p>\n",
       "</div>"
      ],
      "text/plain": [
       "     year  month   rain\n",
       "0    1959     11  193.0\n",
       "1    1959     12  295.4\n",
       "2    1960      1  127.9\n",
       "3    1960      2  106.1\n",
       "4    1960      3   53.9\n",
       "..    ...    ...    ...\n",
       "717  2019      8  221.9\n",
       "718  2019      9  166.3\n",
       "719  2019     10  152.0\n",
       "720  2019     11  142.5\n",
       "721  2019     12  217.3\n",
       "\n",
       "[722 rows x 3 columns]"
      ]
     },
     "execution_count": 6,
     "metadata": {},
     "output_type": "execute_result"
    }
   ],
   "source": [
    "mydata=pd.read_csv(\"mly833_condensed.csv\")\n",
    "mydata"
   ]
  },
  {
   "cell_type": "code",
   "execution_count": 7,
   "metadata": {},
   "outputs": [
    {
     "data": {
      "text/plain": [
       "0      193.0\n",
       "1      295.4\n",
       "2      127.9\n",
       "3      106.1\n",
       "4       53.9\n",
       "       ...  \n",
       "717    221.9\n",
       "718    166.3\n",
       "719    152.0\n",
       "720    142.5\n",
       "721    217.3\n",
       "Name: rain, Length: 722, dtype: float64"
      ]
     },
     "execution_count": 7,
     "metadata": {},
     "output_type": "execute_result"
    }
   ],
   "source": [
    "tseries=mydata['rain']\n",
    "tseries"
   ]
  },
  {
   "cell_type": "code",
   "execution_count": 8,
   "metadata": {},
   "outputs": [
    {
     "data": {
      "text/plain": [
       "pandas.core.series.Series"
      ]
     },
     "execution_count": 8,
     "metadata": {},
     "output_type": "execute_result"
    }
   ],
   "source": [
    "type(tseries)"
   ]
  },
  {
   "cell_type": "markdown",
   "metadata": {},
   "source": [
    "### Dickey-Fuller Test"
   ]
  },
  {
   "cell_type": "code",
   "execution_count": 10,
   "metadata": {},
   "outputs": [
    {
     "name": "stdout",
     "output_type": "stream",
     "text": [
      "ADF Statistic: -5.927739\n",
      "p-value: 0.000000\n",
      "Critical Values:\n",
      "\t1%: -3.440\n",
      "\t5%: -2.866\n",
      "\t10%: -2.569\n"
     ]
    }
   ],
   "source": [
    "result = adfuller(tseries)\n",
    "print('ADF Statistic: %f' % result[0])\n",
    "print('p-value: %f' % result[1])\n",
    "print('Critical Values:')\n",
    "for key, value in result[4].items():\n",
    "    print('\\t%s: %.3f' % (key, value))"
   ]
  },
  {
   "cell_type": "code",
   "execution_count": 11,
   "metadata": {},
   "outputs": [
    {
     "data": {
      "image/png": "[encoded data removed]",
      "text/plain": [
       "<Figure size 640x480 with 1 Axes>"
      ]
     },
     "metadata": {},
     "output_type": "display_data"
    }
   ],
   "source": [
    "plt.plot(tseries)\n",
    "plt.tick_params(\n",
    "    axis='x',          # changes apply to the x-axis\n",
    "    which='both',      # both major and minor ticks are affected\n",
    "    bottom=False,      # ticks along the bottom edge are off\n",
    "    top=False,         # ticks along the top edge are off\n",
    "    labelbottom=False) # labels along the bottom edge are off\n",
    "plt.ylabel('Rainfall')\n",
    "plt.title(\"Rainfall\")\n",
    "plt.show()"
   ]
  },
  {
   "cell_type": "code",
   "execution_count": 12,
   "metadata": {},
   "outputs": [
    {
     "data": {
      "text/html": [
       "<div>\n",
       "<style scoped>\n",
       "    .dataframe tbody tr th:only-of-type {\n",
       "        vertical-align: middle;\n",
       "    }\n",
       "\n",
       "    .dataframe tbody tr th {\n",
       "        vertical-align: top;\n",
       "    }\n",
       "\n",
       "    .dataframe thead th {\n",
       "        text-align: right;\n",
       "    }\n",
       "</style>\n",
       "<table border=\"1\" class=\"dataframe\">\n",
       "  <thead>\n",
       "    <tr style=\"text-align: right;\">\n",
       "      <th></th>\n",
       "      <th>rain</th>\n",
       "    </tr>\n",
       "  </thead>\n",
       "  <tbody>\n",
       "    <tr>\n",
       "      <th>0</th>\n",
       "      <td>193.0</td>\n",
       "    </tr>\n",
       "    <tr>\n",
       "      <th>1</th>\n",
       "      <td>295.4</td>\n",
       "    </tr>\n",
       "    <tr>\n",
       "      <th>2</th>\n",
       "      <td>127.9</td>\n",
       "    </tr>\n",
       "    <tr>\n",
       "      <th>3</th>\n",
       "      <td>106.1</td>\n",
       "    </tr>\n",
       "    <tr>\n",
       "      <th>4</th>\n",
       "      <td>53.9</td>\n",
       "    </tr>\n",
       "    <tr>\n",
       "      <th>...</th>\n",
       "      <td>...</td>\n",
       "    </tr>\n",
       "    <tr>\n",
       "      <th>717</th>\n",
       "      <td>221.9</td>\n",
       "    </tr>\n",
       "    <tr>\n",
       "      <th>718</th>\n",
       "      <td>166.3</td>\n",
       "    </tr>\n",
       "    <tr>\n",
       "      <th>719</th>\n",
       "      <td>152.0</td>\n",
       "    </tr>\n",
       "    <tr>\n",
       "      <th>720</th>\n",
       "      <td>142.5</td>\n",
       "    </tr>\n",
       "    <tr>\n",
       "      <th>721</th>\n",
       "      <td>217.3</td>\n",
       "    </tr>\n",
       "  </tbody>\n",
       "</table>\n",
       "<p>722 rows × 1 columns</p>\n",
       "</div>"
      ],
      "text/plain": [
       "      rain\n",
       "0    193.0\n",
       "1    295.4\n",
       "2    127.9\n",
       "3    106.1\n",
       "4     53.9\n",
       "..     ...\n",
       "717  221.9\n",
       "718  166.3\n",
       "719  152.0\n",
       "720  142.5\n",
       "721  217.3\n",
       "\n",
       "[722 rows x 1 columns]"
      ]
     },
     "execution_count": 12,
     "metadata": {},
     "output_type": "execute_result"
    }
   ],
   "source": [
    "df=pd.DataFrame(tseries)\n",
    "df"
   ]
  },
  {
   "cell_type": "code",
   "execution_count": 13,
   "metadata": {},
   "outputs": [],
   "source": [
    "df = df[:712]"
   ]
  },
  {
   "cell_type": "code",
   "execution_count": 14,
   "metadata": {},
   "outputs": [
    {
     "data": {
      "text/html": [
       "<div>\n",
       "<style scoped>\n",
       "    .dataframe tbody tr th:only-of-type {\n",
       "        vertical-align: middle;\n",
       "    }\n",
       "\n",
       "    .dataframe tbody tr th {\n",
       "        vertical-align: top;\n",
       "    }\n",
       "\n",
       "    .dataframe thead th {\n",
       "        text-align: right;\n",
       "    }\n",
       "</style>\n",
       "<table border=\"1\" class=\"dataframe\">\n",
       "  <thead>\n",
       "    <tr style=\"text-align: right;\">\n",
       "      <th></th>\n",
       "      <th>rain</th>\n",
       "    </tr>\n",
       "  </thead>\n",
       "  <tbody>\n",
       "    <tr>\n",
       "      <th>0</th>\n",
       "      <td>193.0</td>\n",
       "    </tr>\n",
       "    <tr>\n",
       "      <th>1</th>\n",
       "      <td>295.4</td>\n",
       "    </tr>\n",
       "    <tr>\n",
       "      <th>2</th>\n",
       "      <td>127.9</td>\n",
       "    </tr>\n",
       "    <tr>\n",
       "      <th>3</th>\n",
       "      <td>106.1</td>\n",
       "    </tr>\n",
       "    <tr>\n",
       "      <th>4</th>\n",
       "      <td>53.9</td>\n",
       "    </tr>\n",
       "    <tr>\n",
       "      <th>...</th>\n",
       "      <td>...</td>\n",
       "    </tr>\n",
       "    <tr>\n",
       "      <th>707</th>\n",
       "      <td>131.2</td>\n",
       "    </tr>\n",
       "    <tr>\n",
       "      <th>708</th>\n",
       "      <td>150.6</td>\n",
       "    </tr>\n",
       "    <tr>\n",
       "      <th>709</th>\n",
       "      <td>189.1</td>\n",
       "    </tr>\n",
       "    <tr>\n",
       "      <th>710</th>\n",
       "      <td>139.1</td>\n",
       "    </tr>\n",
       "    <tr>\n",
       "      <th>711</th>\n",
       "      <td>107.9</td>\n",
       "    </tr>\n",
       "  </tbody>\n",
       "</table>\n",
       "<p>712 rows × 1 columns</p>\n",
       "</div>"
      ],
      "text/plain": [
       "      rain\n",
       "0    193.0\n",
       "1    295.4\n",
       "2    127.9\n",
       "3    106.1\n",
       "4     53.9\n",
       "..     ...\n",
       "707  131.2\n",
       "708  150.6\n",
       "709  189.1\n",
       "710  139.1\n",
       "711  107.9\n",
       "\n",
       "[712 rows x 1 columns]"
      ]
     },
     "execution_count": 14,
     "metadata": {},
     "output_type": "execute_result"
    }
   ],
   "source": [
    "df"
   ]
  },
  {
   "cell_type": "markdown",
   "metadata": {},
   "source": [
    "### Training and Validation data partition"
   ]
  },
  {
   "cell_type": "code",
   "execution_count": 15,
   "metadata": {},
   "outputs": [],
   "source": [
    "df=np.array(df)"
   ]
  },
  {
   "cell_type": "code",
   "execution_count": 16,
   "metadata": {},
   "outputs": [],
   "source": [
    "train_size = int(len(df) * 0.8)\n",
    "val_size = len(df) - train_size\n",
    "train, val = df[0:train_size,:], df[train_size:len(df),:]"
   ]
  },
  {
   "cell_type": "markdown",
   "metadata": {},
   "source": [
    "### Form dataset matrix"
   ]
  },
  {
   "cell_type": "code",
   "execution_count": 17,
   "metadata": {},
   "outputs": [],
   "source": [
    "def create_dataset(df, previous=1):\n",
    "    dataX, dataY = [], []\n",
    "    for i in range(len(df)-previous-1):\n",
    "        a = df[i:(i+previous), 0]\n",
    "        dataX.append(a)\n",
    "        dataY.append(df[i + previous, 0])\n",
    "    return np.array(dataX), np.array(dataY)"
   ]
  },
  {
   "cell_type": "markdown",
   "metadata": {},
   "source": [
    "## Normalize dataset with MinMaxScaler"
   ]
  },
  {
   "cell_type": "code",
   "execution_count": 18,
   "metadata": {},
   "outputs": [
    {
     "data": {
      "text/plain": [
       "array([[0.53242707],\n",
       "       [0.82242991],\n",
       "       [0.34806004],\n",
       "       [0.28632116],\n",
       "       [0.13848768],\n",
       "       [0.34494477],\n",
       "       [0.14811668],\n",
       "       [0.33050127],\n",
       "       [0.39139054],\n",
       "       [0.31067686],\n",
       "       [0.31634098],\n",
       "       [0.19003115],\n",
       "       [0.62390258],\n",
       "       [0.5865194 ],\n",
       "       [0.54007363],\n",
       "       [0.36731804],\n",
       "       [0.13055792],\n",
       "       [0.25828377],\n",
       "       [0.16737468],\n",
       "       [0.24468989],\n",
       "       [0.48937978],\n",
       "       [0.44038516],\n",
       "       [0.4709714 ],\n",
       "       [0.57320872],\n",
       "       [0.37751345],\n",
       "       [0.39025772],\n",
       "       [0.58850184],\n",
       "       [0.34211272],\n",
       "       [0.35032569],\n",
       "       [0.3268196 ],\n",
       "       [0.1922968 ],\n",
       "       [0.23760974],\n",
       "       [0.20504106],\n",
       "       [0.44916454],\n",
       "       [0.47352025],\n",
       "       [0.25403568],\n",
       "       [0.42367601],\n",
       "       [0.50438969],\n",
       "       [0.05947324],\n",
       "       [0.11894647],\n",
       "       [0.42877372],\n",
       "       [0.26649674],\n",
       "       [0.3367318 ],\n",
       "       [0.25630133],\n",
       "       [0.27131124],\n",
       "       [0.32427074],\n",
       "       [0.36731804],\n",
       "       [0.42962334],\n",
       "       [0.62956669],\n",
       "       [0.13622203],\n",
       "       [0.23647692],\n",
       "       [0.09742283],\n",
       "       [0.24214104],\n",
       "       [0.2163693 ],\n",
       "       [0.31804022],\n",
       "       [0.23251204],\n",
       "       [0.28745398],\n",
       "       [0.37751345],\n",
       "       [0.57377513],\n",
       "       [0.51203625],\n",
       "       [0.42622487],\n",
       "       [0.57094308],\n",
       "       [0.70943076],\n",
       "       [0.04672897],\n",
       "       [0.32540357],\n",
       "       [0.4372699 ],\n",
       "       [0.2452563 ],\n",
       "       [0.41857831],\n",
       "       [0.19484565],\n",
       "       [0.32455395],\n",
       "       [0.42537525],\n",
       "       [0.45341263],\n",
       "       [0.50297366],\n",
       "       [0.62560181],\n",
       "       [0.2883036 ],\n",
       "       [0.39790428],\n",
       "       [0.37156613],\n",
       "       [0.3171906 ],\n",
       "       [0.43500425],\n",
       "       [0.33814783],\n",
       "       [0.21580289],\n",
       "       [0.19342962],\n",
       "       [0.28462192],\n",
       "       [0.2931181 ],\n",
       "       [0.41716228],\n",
       "       [0.95497026],\n",
       "       [0.2931181 ],\n",
       "       [0.32936845],\n",
       "       [0.43642028],\n",
       "       [0.23421127],\n",
       "       [0.3171906 ],\n",
       "       [0.15802889],\n",
       "       [0.32115548],\n",
       "       [0.27329368],\n",
       "       [0.51090343],\n",
       "       [0.71990937],\n",
       "       [0.43302181],\n",
       "       [0.38232795],\n",
       "       [0.60379496],\n",
       "       [0.12800906],\n",
       "       [0.36788445],\n",
       "       [0.16765789],\n",
       "       [0.23449448],\n",
       "       [0.17133956],\n",
       "       [0.13055792],\n",
       "       [0.44066837],\n",
       "       [0.45284622],\n",
       "       [0.50580572],\n",
       "       [0.45001416],\n",
       "       [0.40894931],\n",
       "       [0.46049278],\n",
       "       [0.26508071],\n",
       "       [0.1634098 ],\n",
       "       [0.22571509],\n",
       "       [0.15038233],\n",
       "       [0.29849901],\n",
       "       [0.10818465],\n",
       "       [0.21042198],\n",
       "       [0.16765789],\n",
       "       [0.28518833],\n",
       "       [0.51713396],\n",
       "       [0.49079581],\n",
       "       [0.18606627],\n",
       "       [0.74199943],\n",
       "       [0.38770886],\n",
       "       [0.41121495],\n",
       "       [0.1107335 ],\n",
       "       [0.14811668],\n",
       "       [0.34862645],\n",
       "       [0.31464174],\n",
       "       [0.48314925],\n",
       "       [0.62475219],\n",
       "       [0.55168508],\n",
       "       [0.21835174],\n",
       "       [0.35542339],\n",
       "       [0.36618522],\n",
       "       [0.24072501],\n",
       "       [0.0815633 ],\n",
       "       [0.15463042],\n",
       "       [0.31067686],\n",
       "       [0.13084112],\n",
       "       [0.20419145],\n",
       "       [0.23024639],\n",
       "       [0.30331351],\n",
       "       [0.58595299],\n",
       "       [0.19314642],\n",
       "       [0.29651657],\n",
       "       [0.2645143 ],\n",
       "       [0.38176154],\n",
       "       [0.3845936 ],\n",
       "       [0.38572642],\n",
       "       [0.24752195],\n",
       "       [0.12687624],\n",
       "       [0.18210139],\n",
       "       [0.02237327],\n",
       "       [0.15491362],\n",
       "       [0.52931181],\n",
       "       [0.46587369],\n",
       "       [0.46304163],\n",
       "       [0.41036534],\n",
       "       [0.21750212],\n",
       "       [0.20589068],\n",
       "       [0.31407533],\n",
       "       [0.17558765],\n",
       "       [0.16907392],\n",
       "       [0.44463325],\n",
       "       [0.25290286],\n",
       "       [0.29085245],\n",
       "       [0.66581705],\n",
       "       [0.40611725],\n",
       "       [0.62588502],\n",
       "       [0.3990371 ],\n",
       "       [0.23845936],\n",
       "       [0.03993203],\n",
       "       [0.19088077],\n",
       "       [0.17417162],\n",
       "       [0.35287454],\n",
       "       [0.38572642],\n",
       "       [0.52081563],\n",
       "       [0.30048145],\n",
       "       [0.51600113],\n",
       "       [0.55848202],\n",
       "       [0.72387426],\n",
       "       [0.07080147],\n",
       "       [0.1874823 ],\n",
       "       [0.29679977],\n",
       "       [0.03625035],\n",
       "       [0.12064571],\n",
       "       [0.4613424 ],\n",
       "       [0.24129142],\n",
       "       [0.33050127],\n",
       "       [0.40073634],\n",
       "       [0.42764089],\n",
       "       [0.21495327],\n",
       "       [0.62730105],\n",
       "       [0.19088077],\n",
       "       [0.33616539],\n",
       "       [0.15774568],\n",
       "       [0.36222033],\n",
       "       [0.16737468],\n",
       "       [0.15746248],\n",
       "       [0.00226565],\n",
       "       [0.24412348],\n",
       "       [0.37864628],\n",
       "       [0.38742566],\n",
       "       [0.40583404],\n",
       "       [0.31804022],\n",
       "       [0.34381195],\n",
       "       [0.41687907],\n",
       "       [0.40611725],\n",
       "       [0.09175871],\n",
       "       [0.25545171],\n",
       "       [0.20447465],\n",
       "       [0.26649674],\n",
       "       [0.3608043 ],\n",
       "       [0.55451713],\n",
       "       [0.6828094 ],\n",
       "       [0.38147833],\n",
       "       [0.63891249],\n",
       "       [0.2546021 ],\n",
       "       [0.7114132 ],\n",
       "       [0.0911923 ],\n",
       "       [0.07958086],\n",
       "       [0.21013877],\n",
       "       [0.19824412],\n",
       "       [0.30104786],\n",
       "       [0.68960634],\n",
       "       [0.18804871],\n",
       "       [0.5046729 ],\n",
       "       [0.49107901],\n",
       "       [0.37609742],\n",
       "       [0.15293118],\n",
       "       [0.51373549],\n",
       "       [0.30812801],\n",
       "       [0.38034551],\n",
       "       [0.12715944],\n",
       "       [0.17672048],\n",
       "       [0.50920419],\n",
       "       [0.39393939],\n",
       "       [0.39365619],\n",
       "       [0.60379496],\n",
       "       [0.57802322],\n",
       "       [0.36420278],\n",
       "       [0.31379213],\n",
       "       [0.35174172],\n",
       "       [0.03540074],\n",
       "       [0.05720759],\n",
       "       [0.46700651],\n",
       "       [0.42395922],\n",
       "       [0.27470971],\n",
       "       [0.72274143],\n",
       "       [0.51231946],\n",
       "       [0.53214387],\n",
       "       [0.82101388],\n",
       "       [0.43642028],\n",
       "       [0.28632116],\n",
       "       [0.48456528],\n",
       "       [0.12546021],\n",
       "       [0.42650807],\n",
       "       [0.23137921],\n",
       "       [0.29934863],\n",
       "       [0.27159445],\n",
       "       [0.6828094 ],\n",
       "       [0.58057208],\n",
       "       [0.33389975],\n",
       "       [0.33503257],\n",
       "       [0.3797791 ],\n",
       "       [0.32370433],\n",
       "       [0.49164543],\n",
       "       [0.07278391],\n",
       "       [0.23902577],\n",
       "       [0.32625319],\n",
       "       [0.05664118],\n",
       "       [0.36930048],\n",
       "       [0.31039366],\n",
       "       [0.42905692],\n",
       "       [0.57037666],\n",
       "       [0.83092608],\n",
       "       [0.56414613],\n",
       "       [0.24100821],\n",
       "       [0.55621637],\n",
       "       [0.24950439],\n",
       "       [0.24384027],\n",
       "       [0.10846786],\n",
       "       [0.10308694],\n",
       "       [0.11271594],\n",
       "       [0.48428207],\n",
       "       [0.72302464],\n",
       "       [0.21920136],\n",
       "       [0.47720193],\n",
       "       [0.82271311],\n",
       "       [0.36873407],\n",
       "       [0.19484565],\n",
       "       [0.18549986],\n",
       "       [0.07448315],\n",
       "       [0.20560748],\n",
       "       [0.11129992],\n",
       "       [0.2019258 ],\n",
       "       [0.44746531],\n",
       "       [0.68875673],\n",
       "       [0.44661569],\n",
       "       [0.49079581],\n",
       "       [0.3027471 ],\n",
       "       [0.14556783],\n",
       "       [0.46077598],\n",
       "       [0.27216086],\n",
       "       [0.36420278],\n",
       "       [0.21948457],\n",
       "       [0.29113566],\n",
       "       [0.72160861],\n",
       "       [0.6779949 ],\n",
       "       [0.21325404],\n",
       "       [0.19852733],\n",
       "       [0.44888134],\n",
       "       [0.60294534],\n",
       "       [0.        ],\n",
       "       [0.59190031],\n",
       "       [0.38374398],\n",
       "       [0.56669499],\n",
       "       [0.27470971],\n",
       "       [0.26168224],\n",
       "       [0.43953554],\n",
       "       [0.05664118],\n",
       "       [0.60436137],\n",
       "       [0.62305296],\n",
       "       [0.75672614],\n",
       "       [0.21523648],\n",
       "       [0.2642311 ],\n",
       "       [0.42650807],\n",
       "       [0.14330218],\n",
       "       [0.17926933],\n",
       "       [0.22288304],\n",
       "       [0.28094024],\n",
       "       [0.38402719],\n",
       "       [0.40441801],\n",
       "       [0.4998584 ],\n",
       "       [0.44095157],\n",
       "       [0.28547154],\n",
       "       [0.72670632],\n",
       "       [0.39365619],\n",
       "       [0.64259417],\n",
       "       [0.13877089],\n",
       "       [0.17983574],\n",
       "       [0.13622203],\n",
       "       [0.44123478],\n",
       "       [0.5046729 ],\n",
       "       [0.48031719],\n",
       "       [0.48881337],\n",
       "       [0.24157462],\n",
       "       [0.31152648],\n",
       "       [0.37354857],\n",
       "       [0.48711413],\n",
       "       [0.47153781],\n",
       "       [0.20475786],\n",
       "       [0.11271594],\n",
       "       [0.27584254],\n",
       "       [0.09260833],\n",
       "       [0.53242707],\n",
       "       [0.19937695],\n",
       "       [0.86094591],\n",
       "       [0.30472954],\n",
       "       [0.36930048],\n",
       "       [0.64684225],\n",
       "       [0.73803455],\n",
       "       [0.30019824],\n",
       "       [0.35004248],\n",
       "       [0.04502974],\n",
       "       [0.31520816],\n",
       "       [0.21495327],\n",
       "       [0.25828377],\n",
       "       [0.20589068],\n",
       "       [0.75700935],\n",
       "       [0.41886151],\n",
       "       [0.69413764],\n",
       "       [0.41263098],\n",
       "       [0.27074483],\n",
       "       [0.33899745],\n",
       "       [0.58878505],\n",
       "       [0.06428774],\n",
       "       [0.31464174],\n",
       "       [0.32257151],\n",
       "       [0.24129142],\n",
       "       [0.2594166 ],\n",
       "       [0.38855848],\n",
       "       [0.56301331],\n",
       "       [0.45567828],\n",
       "       [0.2885868 ],\n",
       "       [0.38176154],\n",
       "       [0.54743699],\n",
       "       [0.38685925],\n",
       "       [0.26593033],\n",
       "       [0.13112433],\n",
       "       [0.35825545],\n",
       "       [0.57490796],\n",
       "       [0.38431039],\n",
       "       [0.45426225],\n",
       "       [0.68649108],\n",
       "       [0.38600963],\n",
       "       [0.60945908],\n",
       "       [0.1682243 ],\n",
       "       [0.23987539],\n",
       "       [0.34466157],\n",
       "       [0.42509204],\n",
       "       [0.29623336],\n",
       "       [0.32823563],\n",
       "       [0.22684792],\n",
       "       [0.27159445],\n",
       "       [0.13792127],\n",
       "       [0.22090059],\n",
       "       [0.94165959],\n",
       "       [0.68111017],\n",
       "       [0.30671198],\n",
       "       [0.74341546],\n",
       "       [0.4519966 ],\n",
       "       [0.23591051],\n",
       "       [0.32455395],\n",
       "       [0.23336165],\n",
       "       [0.2500708 ],\n",
       "       [0.20702351],\n",
       "       [0.24157462],\n",
       "       [0.37269895],\n",
       "       [0.69385443],\n",
       "       [0.61144152],\n",
       "       [0.44973095],\n",
       "       [0.50184084],\n",
       "       [0.16595865],\n",
       "       [0.22429907],\n",
       "       [0.08382894],\n",
       "       [0.35514019],\n",
       "       [0.01614274],\n",
       "       [0.27669216],\n",
       "       [0.4905126 ],\n",
       "       [0.37298216],\n",
       "       [0.16964033],\n",
       "       [0.18408383],\n",
       "       [0.51543472],\n",
       "       [0.20249221],\n",
       "       [0.23817615],\n",
       "       [0.2452563 ],\n",
       "       [0.14500142],\n",
       "       [0.26564713],\n",
       "       [0.29396771],\n",
       "       [0.18946474],\n",
       "       [0.58085528],\n",
       "       [0.51175304],\n",
       "       [0.25035401],\n",
       "       [0.06513735],\n",
       "       [0.55451713],\n",
       "       [0.23789295],\n",
       "       [0.10676862],\n",
       "       [0.26876239],\n",
       "       [0.21240442],\n",
       "       [0.33786463],\n",
       "       [0.28802039],\n",
       "       [0.3364486 ],\n",
       "       [0.26026621],\n",
       "       [0.35627301],\n",
       "       [0.63523081],\n",
       "       [0.45482866],\n",
       "       [0.36222033],\n",
       "       [0.33135089],\n",
       "       [0.26054942],\n",
       "       [0.17417162],\n",
       "       [0.41404701],\n",
       "       [0.39705466],\n",
       "       [0.66241858],\n",
       "       [0.25771736],\n",
       "       [0.67346361],\n",
       "       [0.5001416 ],\n",
       "       [0.54856981],\n",
       "       [0.64485981],\n",
       "       [0.46474087],\n",
       "       [0.30529595],\n",
       "       [0.40498442],\n",
       "       [0.22175021],\n",
       "       [0.21070518],\n",
       "       [0.2500708 ],\n",
       "       [0.38232795],\n",
       "       [0.51146984],\n",
       "       [0.3078448 ],\n",
       "       [0.58991787],\n",
       "       [1.        ],\n",
       "       [0.36306995],\n",
       "       [0.61908808],\n",
       "       [0.33474936],\n",
       "       [0.31407533],\n",
       "       [0.21297083],\n",
       "       [0.23336165],\n",
       "       [0.14613424],\n",
       "       [0.53214387],\n",
       "       [0.41064854],\n",
       "       [0.85188332],\n",
       "       [0.63211555],\n",
       "       [0.48343246],\n",
       "       [0.21467007],\n",
       "       [0.24468989],\n",
       "       [0.26054942],\n",
       "       [0.2546021 ],\n",
       "       [0.13905409],\n",
       "       [0.30246389],\n",
       "       [0.25885018],\n",
       "       [0.48258284],\n",
       "       [0.18096856],\n",
       "       [0.38714245],\n",
       "       [0.48513169],\n",
       "       [0.26338148],\n",
       "       [0.38714245],\n",
       "       [0.72557349],\n",
       "       [0.26168224],\n",
       "       [0.30161427],\n",
       "       [0.32257151],\n",
       "       [0.41631266],\n",
       "       [0.20815633],\n",
       "       [0.31379213],\n",
       "       [0.09515718],\n",
       "       [0.56329652],\n",
       "       [0.63806287],\n",
       "       [0.3653356 ],\n",
       "       [0.3701501 ],\n",
       "       [0.23789295],\n",
       "       [0.24129142],\n",
       "       [0.17332201],\n",
       "       [0.54885302],\n",
       "       [0.17983574],\n",
       "       [0.27442651],\n",
       "       [0.13735486],\n",
       "       [0.2594166 ],\n",
       "       [0.29934863],\n",
       "       [0.53752478],\n",
       "       [0.40101954],\n",
       "       [0.51486831],\n",
       "       [0.18946474],\n",
       "       [0.3364486 ],\n",
       "       [0.3174738 ],\n",
       "       [0.21806854],\n",
       "       [0.30104786],\n",
       "       [0.28037383],\n",
       "       [0.27640895],\n",
       "       [0.5482866 ],\n",
       "       [0.53186066],\n",
       "       [0.30926083],\n",
       "       [0.65477202],\n",
       "       [0.79637496],\n",
       "       [0.28178986],\n",
       "       [0.20334183],\n",
       "       [0.33928066],\n",
       "       [0.38232795],\n",
       "       [0.26083263],\n",
       "       [0.1104503 ],\n",
       "       [0.3605211 ],\n",
       "       [0.33588219],\n",
       "       [0.3653356 ],\n",
       "       [0.52761257],\n",
       "       [0.4471821 ],\n",
       "       [0.25743415],\n",
       "       [0.26819598],\n",
       "       [0.36760125],\n",
       "       [0.28178986],\n",
       "       [0.36986689],\n",
       "       [0.09289153],\n",
       "       [0.15264798],\n",
       "       [0.18125177],\n",
       "       [0.49221184],\n",
       "       [0.48994619],\n",
       "       [0.53044463],\n",
       "       [0.72302464],\n",
       "       [0.56046446],\n",
       "       [0.31605777],\n",
       "       [0.30727839]])"
      ]
     },
     "execution_count": 18,
     "metadata": {},
     "output_type": "execute_result"
    }
   ],
   "source": [
    "scaler = MinMaxScaler(feature_range=(0, 1))\n",
    "train = scaler.fit_transform(train)\n",
    "train"
   ]
  },
  {
   "cell_type": "code",
   "execution_count": 19,
   "metadata": {},
   "outputs": [
    {
     "data": {
      "text/plain": [
       "array([[0.12621056],\n",
       "       [0.33208372],\n",
       "       [0.33052171],\n",
       "       [0.55107779],\n",
       "       [0.22524211],\n",
       "       [0.3283349 ],\n",
       "       [0.23961262],\n",
       "       [0.36394877],\n",
       "       [0.59418932],\n",
       "       [0.66135583],\n",
       "       [0.3817557 ],\n",
       "       [0.6713527 ],\n",
       "       [0.16338644],\n",
       "       [0.04311153],\n",
       "       [0.34989066],\n",
       "       [0.14589191],\n",
       "       [0.63605123],\n",
       "       [0.51109028],\n",
       "       [0.73133396],\n",
       "       [0.51233989],\n",
       "       [0.35613871],\n",
       "       [0.40143705],\n",
       "       [0.1452671 ],\n",
       "       [0.33676976],\n",
       "       [0.29834427],\n",
       "       [0.35457669],\n",
       "       [0.16307404],\n",
       "       [0.71383943],\n",
       "       [0.74789128],\n",
       "       [0.2243049 ],\n",
       "       [0.36551078],\n",
       "       [0.9600125 ],\n",
       "       [0.37019681],\n",
       "       [0.22086848],\n",
       "       [0.16807248],\n",
       "       [0.2099344 ],\n",
       "       [0.1046548 ],\n",
       "       [0.10278038],\n",
       "       [0.09059669],\n",
       "       [0.35613871],\n",
       "       [0.26522962],\n",
       "       [0.77194627],\n",
       "       [0.34551703],\n",
       "       [0.70228054],\n",
       "       [0.17025929],\n",
       "       [0.22836614],\n",
       "       [0.55420181],\n",
       "       [0.2102468 ],\n",
       "       [0.23086535],\n",
       "       [0.45548266],\n",
       "       [0.25242112],\n",
       "       [0.16869728],\n",
       "       [0.37425804],\n",
       "       [0.57419556],\n",
       "       [0.81661981],\n",
       "       [0.4739144 ],\n",
       "       [0.868791  ],\n",
       "       [0.53327085],\n",
       "       [0.48016245],\n",
       "       [0.17307092],\n",
       "       [0.22243049],\n",
       "       [0.19587629],\n",
       "       [0.51046548],\n",
       "       [0.29928147],\n",
       "       [0.27428928],\n",
       "       [0.56357388],\n",
       "       [0.32208685],\n",
       "       [0.50109341],\n",
       "       [0.53701968],\n",
       "       [0.62542955],\n",
       "       [0.24679788],\n",
       "       [0.14089347],\n",
       "       [0.34645423],\n",
       "       [0.45017182],\n",
       "       [0.15463918],\n",
       "       [0.24773508],\n",
       "       [0.26960325],\n",
       "       [0.24492346],\n",
       "       [0.29990628],\n",
       "       [0.32552327],\n",
       "       [0.56201187],\n",
       "       [0.87660106],\n",
       "       [0.74164324],\n",
       "       [0.34364261],\n",
       "       [0.11277726],\n",
       "       [0.36363636],\n",
       "       [0.19868791],\n",
       "       [0.22617932],\n",
       "       [0.31458919],\n",
       "       [0.        ],\n",
       "       [0.44829741],\n",
       "       [0.37269603],\n",
       "       [0.83536395],\n",
       "       [0.75632615],\n",
       "       [0.41736957],\n",
       "       [0.420806  ],\n",
       "       [0.33145892],\n",
       "       [0.45548266],\n",
       "       [0.10777882],\n",
       "       [0.42799125],\n",
       "       [0.30834114],\n",
       "       [0.43892534],\n",
       "       [0.21868166],\n",
       "       [1.        ],\n",
       "       [0.82193065],\n",
       "       [0.53389566],\n",
       "       [0.71946267],\n",
       "       [0.38800375],\n",
       "       [0.25367073],\n",
       "       [0.11184005],\n",
       "       [0.35051546],\n",
       "       [0.27428928],\n",
       "       [0.36457357],\n",
       "       [0.56482349],\n",
       "       [0.08122462],\n",
       "       [0.45204624],\n",
       "       [0.25304592],\n",
       "       [0.24023743],\n",
       "       [0.3948766 ],\n",
       "       [0.657607  ],\n",
       "       [0.03124024],\n",
       "       [0.14901593],\n",
       "       [0.26085598],\n",
       "       [0.52139956],\n",
       "       [0.53389566],\n",
       "       [0.41080912],\n",
       "       [0.50577944],\n",
       "       [0.59887535],\n",
       "       [0.51858794],\n",
       "       [0.79475164],\n",
       "       [0.43642612],\n",
       "       [0.22492971],\n",
       "       [0.22149328],\n",
       "       [0.15120275],\n",
       "       [0.14401749],\n",
       "       [0.12527335],\n",
       "       [0.49859419],\n",
       "       [0.39643861],\n",
       "       [0.36207435],\n",
       "       [0.42268041],\n",
       "       [0.54295533],\n",
       "       [0.38675414],\n",
       "       [0.2892846 ]])"
      ]
     },
     "execution_count": 19,
     "metadata": {},
     "output_type": "execute_result"
    }
   ],
   "source": [
    "val = scaler.fit_transform(val)\n",
    "val"
   ]
  },
  {
   "cell_type": "code",
   "execution_count": 20,
   "metadata": {},
   "outputs": [],
   "source": [
    "# Lookback period\n",
    "lookback = 120\n",
    "X_train, Y_train = create_dataset(train, lookback)\n",
    "X_val, Y_val = create_dataset(val, lookback)"
   ]
  },
  {
   "cell_type": "code",
   "execution_count": 21,
   "metadata": {},
   "outputs": [
    {
     "data": {
      "text/plain": [
       "array([[0.53242707, 0.82242991, 0.34806004, ..., 0.21042198, 0.16765789,\n",
       "        0.28518833],\n",
       "       [0.82242991, 0.34806004, 0.28632116, ..., 0.16765789, 0.28518833,\n",
       "        0.51713396],\n",
       "       [0.34806004, 0.28632116, 0.13848768, ..., 0.28518833, 0.51713396,\n",
       "        0.49079581],\n",
       "       ...,\n",
       "       [0.25035401, 0.06513735, 0.55451713, ..., 0.49221184, 0.48994619,\n",
       "        0.53044463],\n",
       "       [0.06513735, 0.55451713, 0.23789295, ..., 0.48994619, 0.53044463,\n",
       "        0.72302464],\n",
       "       [0.55451713, 0.23789295, 0.10676862, ..., 0.53044463, 0.72302464,\n",
       "        0.56046446]])"
      ]
     },
     "execution_count": 21,
     "metadata": {},
     "output_type": "execute_result"
    }
   ],
   "source": [
    "X_train"
   ]
  },
  {
   "cell_type": "code",
   "execution_count": 22,
   "metadata": {},
   "outputs": [
    {
     "data": {
      "text/plain": [
       "array([0.51713396, 0.49079581, 0.18606627, 0.74199943, 0.38770886,\n",
       "       0.41121495, 0.1107335 , 0.14811668, 0.34862645, 0.31464174,\n",
       "       0.48314925, 0.62475219, 0.55168508, 0.21835174, 0.35542339,\n",
       "       0.36618522, 0.24072501, 0.0815633 , 0.15463042, 0.31067686,\n",
       "       0.13084112, 0.20419145, 0.23024639, 0.30331351, 0.58595299,\n",
       "       0.19314642, 0.29651657, 0.2645143 , 0.38176154, 0.3845936 ,\n",
       "       0.38572642, 0.24752195, 0.12687624, 0.18210139, 0.02237327,\n",
       "       0.15491362, 0.52931181, 0.46587369, 0.46304163, 0.41036534,\n",
       "       0.21750212, 0.20589068, 0.31407533, 0.17558765, 0.16907392,\n",
       "       0.44463325, 0.25290286, 0.29085245, 0.66581705, 0.40611725,\n",
       "       0.62588502, 0.3990371 , 0.23845936, 0.03993203, 0.19088077,\n",
       "       0.17417162, 0.35287454, 0.38572642, 0.52081563, 0.30048145,\n",
       "       0.51600113, 0.55848202, 0.72387426, 0.07080147, 0.1874823 ,\n",
       "       0.29679977, 0.03625035, 0.12064571, 0.4613424 , 0.24129142,\n",
       "       0.33050127, 0.40073634, 0.42764089, 0.21495327, 0.62730105,\n",
       "       0.19088077, 0.33616539, 0.15774568, 0.36222033, 0.16737468,\n",
       "       0.15746248, 0.00226565, 0.24412348, 0.37864628, 0.38742566,\n",
       "       0.40583404, 0.31804022, 0.34381195, 0.41687907, 0.40611725,\n",
       "       0.09175871, 0.25545171, 0.20447465, 0.26649674, 0.3608043 ,\n",
       "       0.55451713, 0.6828094 , 0.38147833, 0.63891249, 0.2546021 ,\n",
       "       0.7114132 , 0.0911923 , 0.07958086, 0.21013877, 0.19824412,\n",
       "       0.30104786, 0.68960634, 0.18804871, 0.5046729 , 0.49107901,\n",
       "       0.37609742, 0.15293118, 0.51373549, 0.30812801, 0.38034551,\n",
       "       0.12715944, 0.17672048, 0.50920419, 0.39393939, 0.39365619,\n",
       "       0.60379496, 0.57802322, 0.36420278, 0.31379213, 0.35174172,\n",
       "       0.03540074, 0.05720759, 0.46700651, 0.42395922, 0.27470971,\n",
       "       0.72274143, 0.51231946, 0.53214387, 0.82101388, 0.43642028,\n",
       "       0.28632116, 0.48456528, 0.12546021, 0.42650807, 0.23137921,\n",
       "       0.29934863, 0.27159445, 0.6828094 , 0.58057208, 0.33389975,\n",
       "       0.33503257, 0.3797791 , 0.32370433, 0.49164543, 0.07278391,\n",
       "       0.23902577, 0.32625319, 0.05664118, 0.36930048, 0.31039366,\n",
       "       0.42905692, 0.57037666, 0.83092608, 0.56414613, 0.24100821,\n",
       "       0.55621637, 0.24950439, 0.24384027, 0.10846786, 0.10308694,\n",
       "       0.11271594, 0.48428207, 0.72302464, 0.21920136, 0.47720193,\n",
       "       0.82271311, 0.36873407, 0.19484565, 0.18549986, 0.07448315,\n",
       "       0.20560748, 0.11129992, 0.2019258 , 0.44746531, 0.68875673,\n",
       "       0.44661569, 0.49079581, 0.3027471 , 0.14556783, 0.46077598,\n",
       "       0.27216086, 0.36420278, 0.21948457, 0.29113566, 0.72160861,\n",
       "       0.6779949 , 0.21325404, 0.19852733, 0.44888134, 0.60294534,\n",
       "       0.        , 0.59190031, 0.38374398, 0.56669499, 0.27470971,\n",
       "       0.26168224, 0.43953554, 0.05664118, 0.60436137, 0.62305296,\n",
       "       0.75672614, 0.21523648, 0.2642311 , 0.42650807, 0.14330218,\n",
       "       0.17926933, 0.22288304, 0.28094024, 0.38402719, 0.40441801,\n",
       "       0.4998584 , 0.44095157, 0.28547154, 0.72670632, 0.39365619,\n",
       "       0.64259417, 0.13877089, 0.17983574, 0.13622203, 0.44123478,\n",
       "       0.5046729 , 0.48031719, 0.48881337, 0.24157462, 0.31152648,\n",
       "       0.37354857, 0.48711413, 0.47153781, 0.20475786, 0.11271594,\n",
       "       0.27584254, 0.09260833, 0.53242707, 0.19937695, 0.86094591,\n",
       "       0.30472954, 0.36930048, 0.64684225, 0.73803455, 0.30019824,\n",
       "       0.35004248, 0.04502974, 0.31520816, 0.21495327, 0.25828377,\n",
       "       0.20589068, 0.75700935, 0.41886151, 0.69413764, 0.41263098,\n",
       "       0.27074483, 0.33899745, 0.58878505, 0.06428774, 0.31464174,\n",
       "       0.32257151, 0.24129142, 0.2594166 , 0.38855848, 0.56301331,\n",
       "       0.45567828, 0.2885868 , 0.38176154, 0.54743699, 0.38685925,\n",
       "       0.26593033, 0.13112433, 0.35825545, 0.57490796, 0.38431039,\n",
       "       0.45426225, 0.68649108, 0.38600963, 0.60945908, 0.1682243 ,\n",
       "       0.23987539, 0.34466157, 0.42509204, 0.29623336, 0.32823563,\n",
       "       0.22684792, 0.27159445, 0.13792127, 0.22090059, 0.94165959,\n",
       "       0.68111017, 0.30671198, 0.74341546, 0.4519966 , 0.23591051,\n",
       "       0.32455395, 0.23336165, 0.2500708 , 0.20702351, 0.24157462,\n",
       "       0.37269895, 0.69385443, 0.61144152, 0.44973095, 0.50184084,\n",
       "       0.16595865, 0.22429907, 0.08382894, 0.35514019, 0.01614274,\n",
       "       0.27669216, 0.4905126 , 0.37298216, 0.16964033, 0.18408383,\n",
       "       0.51543472, 0.20249221, 0.23817615, 0.2452563 , 0.14500142,\n",
       "       0.26564713, 0.29396771, 0.18946474, 0.58085528, 0.51175304,\n",
       "       0.25035401, 0.06513735, 0.55451713, 0.23789295, 0.10676862,\n",
       "       0.26876239, 0.21240442, 0.33786463, 0.28802039, 0.3364486 ,\n",
       "       0.26026621, 0.35627301, 0.63523081, 0.45482866, 0.36222033,\n",
       "       0.33135089, 0.26054942, 0.17417162, 0.41404701, 0.39705466,\n",
       "       0.66241858, 0.25771736, 0.67346361, 0.5001416 , 0.54856981,\n",
       "       0.64485981, 0.46474087, 0.30529595, 0.40498442, 0.22175021,\n",
       "       0.21070518, 0.2500708 , 0.38232795, 0.51146984, 0.3078448 ,\n",
       "       0.58991787, 1.        , 0.36306995, 0.61908808, 0.33474936,\n",
       "       0.31407533, 0.21297083, 0.23336165, 0.14613424, 0.53214387,\n",
       "       0.41064854, 0.85188332, 0.63211555, 0.48343246, 0.21467007,\n",
       "       0.24468989, 0.26054942, 0.2546021 , 0.13905409, 0.30246389,\n",
       "       0.25885018, 0.48258284, 0.18096856, 0.38714245, 0.48513169,\n",
       "       0.26338148, 0.38714245, 0.72557349, 0.26168224, 0.30161427,\n",
       "       0.32257151, 0.41631266, 0.20815633, 0.31379213, 0.09515718,\n",
       "       0.56329652, 0.63806287, 0.3653356 , 0.3701501 , 0.23789295,\n",
       "       0.24129142, 0.17332201, 0.54885302, 0.17983574, 0.27442651,\n",
       "       0.13735486, 0.2594166 , 0.29934863, 0.53752478, 0.40101954,\n",
       "       0.51486831, 0.18946474, 0.3364486 , 0.3174738 , 0.21806854,\n",
       "       0.30104786, 0.28037383, 0.27640895, 0.5482866 , 0.53186066,\n",
       "       0.30926083, 0.65477202, 0.79637496, 0.28178986, 0.20334183,\n",
       "       0.33928066, 0.38232795, 0.26083263, 0.1104503 , 0.3605211 ,\n",
       "       0.33588219, 0.3653356 , 0.52761257, 0.4471821 , 0.25743415,\n",
       "       0.26819598, 0.36760125, 0.28178986, 0.36986689, 0.09289153,\n",
       "       0.15264798, 0.18125177, 0.49221184, 0.48994619, 0.53044463,\n",
       "       0.72302464, 0.56046446, 0.31605777])"
      ]
     },
     "execution_count": 22,
     "metadata": {},
     "output_type": "execute_result"
    }
   ],
   "source": [
    "Y_train"
   ]
  },
  {
   "cell_type": "markdown",
   "metadata": {},
   "source": [
    "## Configure LSTM model"
   ]
  },
  {
   "cell_type": "code",
   "execution_count": 23,
   "metadata": {},
   "outputs": [
    {
     "name": "stdout",
     "output_type": "stream",
     "text": [
      "Epoch 1/100\n"
     ]
    },
    {
     "name": "stderr",
     "output_type": "stream",
     "text": [
      "2023-04-18 02:23:39.363549: I tensorflow/core/common_runtime/executor.cc:1197] [/device:CPU:0] (DEBUG INFO) Executor start aborting (this does not indicate an error and you can ignore this message): INVALID_ARGUMENT: You must feed a value for placeholder tensor 'gradients/split_2_grad/concat/split_2/split_dim' with dtype int32\n",
      "\t [[{{node gradients/split_2_grad/concat/split_2/split_dim}}]]\n",
      "2023-04-18 02:23:39.365581: I tensorflow/core/common_runtime/executor.cc:1197] [/device:CPU:0] (DEBUG INFO) Executor start aborting (this does not indicate an error and you can ignore this message): INVALID_ARGUMENT: You must feed a value for placeholder tensor 'gradients/split_grad/concat/split/split_dim' with dtype int32\n",
      "\t [[{{node gradients/split_grad/concat/split/split_dim}}]]\n",
      "2023-04-18 02:23:39.366986: I tensorflow/core/common_runtime/executor.cc:1197] [/device:CPU:0] (DEBUG INFO) Executor start aborting (this does not indicate an error and you can ignore this message): INVALID_ARGUMENT: You must feed a value for placeholder tensor 'gradients/split_1_grad/concat/split_1/split_dim' with dtype int32\n",
      "\t [[{{node gradients/split_1_grad/concat/split_1/split_dim}}]]\n",
      "2023-04-18 02:23:39.866876: I tensorflow/core/common_runtime/executor.cc:1197] [/device:CPU:0] (DEBUG INFO) Executor start aborting (this does not indicate an error and you can ignore this message): INVALID_ARGUMENT: You must feed a value for placeholder tensor 'gradients/split_2_grad/concat/split_2/split_dim' with dtype int32\n",
      "\t [[{{node gradients/split_2_grad/concat/split_2/split_dim}}]]\n",
      "2023-04-18 02:23:39.869707: I tensorflow/core/common_runtime/executor.cc:1197] [/device:CPU:0] (DEBUG INFO) Executor start aborting (this does not indicate an error and you can ignore this message): INVALID_ARGUMENT: You must feed a value for placeholder tensor 'gradients/split_grad/concat/split/split_dim' with dtype int32\n",
      "\t [[{{node gradients/split_grad/concat/split/split_dim}}]]\n",
      "2023-04-18 02:23:39.871619: I tensorflow/core/common_runtime/executor.cc:1197] [/device:CPU:0] (DEBUG INFO) Executor start aborting (this does not indicate an error and you can ignore this message): INVALID_ARGUMENT: You must feed a value for placeholder tensor 'gradients/split_1_grad/concat/split_1/split_dim' with dtype int32\n",
      "\t [[{{node gradients/split_1_grad/concat/split_1/split_dim}}]]\n",
      "2023-04-18 02:23:40.655989: I tensorflow/core/common_runtime/executor.cc:1197] [/device:CPU:0] (DEBUG INFO) Executor start aborting (this does not indicate an error and you can ignore this message): INVALID_ARGUMENT: You must feed a value for placeholder tensor 'gradients/split_2_grad/concat/split_2/split_dim' with dtype int32\n",
      "\t [[{{node gradients/split_2_grad/concat/split_2/split_dim}}]]\n",
      "2023-04-18 02:23:40.658032: I tensorflow/core/common_runtime/executor.cc:1197] [/device:CPU:0] (DEBUG INFO) Executor start aborting (this does not indicate an error and you can ignore this message): INVALID_ARGUMENT: You must feed a value for placeholder tensor 'gradients/split_grad/concat/split/split_dim' with dtype int32\n",
      "\t [[{{node gradients/split_grad/concat/split/split_dim}}]]\n",
      "2023-04-18 02:23:40.659503: I tensorflow/core/common_runtime/executor.cc:1197] [/device:CPU:0] (DEBUG INFO) Executor start aborting (this does not indicate an error and you can ignore this message): INVALID_ARGUMENT: You must feed a value for placeholder tensor 'gradients/split_1_grad/concat/split_1/split_dim' with dtype int32\n",
      "\t [[{{node gradients/split_1_grad/concat/split_1/split_dim}}]]\n"
     ]
    },
    {
     "name": "stdout",
     "output_type": "stream",
     "text": [
      "1/1 - 3s - loss: 0.2972 - val_loss: 0.2884 - 3s/epoch - 3s/step\n"
     ]
    },
    {
     "name": "stderr",
     "output_type": "stream",
     "text": [
      "2023-04-18 02:23:41.984950: I tensorflow/core/common_runtime/executor.cc:1197] [/device:CPU:0] (DEBUG INFO) Executor start aborting (this does not indicate an error and you can ignore this message): INVALID_ARGUMENT: You must feed a value for placeholder tensor 'gradients/split_2_grad/concat/split_2/split_dim' with dtype int32\n",
      "\t [[{{node gradients/split_2_grad/concat/split_2/split_dim}}]]\n",
      "2023-04-18 02:23:41.986844: I tensorflow/core/common_runtime/executor.cc:1197] [/device:CPU:0] (DEBUG INFO) Executor start aborting (this does not indicate an error and you can ignore this message): INVALID_ARGUMENT: You must feed a value for placeholder tensor 'gradients/split_grad/concat/split/split_dim' with dtype int32\n",
      "\t [[{{node gradients/split_grad/concat/split/split_dim}}]]\n",
      "2023-04-18 02:23:41.988337: I tensorflow/core/common_runtime/executor.cc:1197] [/device:CPU:0] (DEBUG INFO) Executor start aborting (this does not indicate an error and you can ignore this message): INVALID_ARGUMENT: You must feed a value for placeholder tensor 'gradients/split_1_grad/concat/split_1/split_dim' with dtype int32\n",
      "\t [[{{node gradients/split_1_grad/concat/split_1/split_dim}}]]\n"
     ]
    },
    {
     "name": "stdout",
     "output_type": "stream",
     "text": [
      "Epoch 2/100\n",
      "1/1 - 0s - loss: 0.2685 - val_loss: 0.2599 - 34ms/epoch - 34ms/step\n",
      "Epoch 3/100\n",
      "1/1 - 0s - loss: 0.2419 - val_loss: 0.2335 - 38ms/epoch - 38ms/step\n",
      "Epoch 4/100\n",
      "1/1 - 0s - loss: 0.2174 - val_loss: 0.2093 - 37ms/epoch - 37ms/step\n",
      "Epoch 5/100\n",
      "1/1 - 0s - loss: 0.1949 - val_loss: 0.1871 - 55ms/epoch - 55ms/step\n",
      "Epoch 6/100\n",
      "1/1 - 0s - loss: 0.1744 - val_loss: 0.1669 - 95ms/epoch - 95ms/step\n",
      "Epoch 7/100\n",
      "1/1 - 0s - loss: 0.1557 - val_loss: 0.1485 - 69ms/epoch - 69ms/step\n",
      "Epoch 8/100\n",
      "1/1 - 0s - loss: 0.1388 - val_loss: 0.1320 - 45ms/epoch - 45ms/step\n",
      "Epoch 9/100\n",
      "1/1 - 0s - loss: 0.1236 - val_loss: 0.1171 - 39ms/epoch - 39ms/step\n",
      "Epoch 10/100\n",
      "1/1 - 0s - loss: 0.1100 - val_loss: 0.1039 - 40ms/epoch - 40ms/step\n",
      "Epoch 11/100\n",
      "1/1 - 0s - loss: 0.0980 - val_loss: 0.0922 - 36ms/epoch - 36ms/step\n",
      "Epoch 12/100\n",
      "1/1 - 0s - loss: 0.0873 - val_loss: 0.0818 - 40ms/epoch - 40ms/step\n",
      "Epoch 13/100\n",
      "1/1 - 0s - loss: 0.0779 - val_loss: 0.0728 - 37ms/epoch - 37ms/step\n",
      "Epoch 14/100\n",
      "1/1 - 0s - loss: 0.0698 - val_loss: 0.0650 - 34ms/epoch - 34ms/step\n",
      "Epoch 15/100\n",
      "1/1 - 0s - loss: 0.0628 - val_loss: 0.0583 - 33ms/epoch - 33ms/step\n",
      "Epoch 16/100\n",
      "1/1 - 0s - loss: 0.0568 - val_loss: 0.0526 - 36ms/epoch - 36ms/step\n",
      "Epoch 17/100\n",
      "1/1 - 0s - loss: 0.0518 - val_loss: 0.0479 - 35ms/epoch - 35ms/step\n",
      "Epoch 18/100\n",
      "1/1 - 0s - loss: 0.0476 - val_loss: 0.0439 - 34ms/epoch - 34ms/step\n",
      "Epoch 19/100\n",
      "1/1 - 0s - loss: 0.0442 - val_loss: 0.0407 - 36ms/epoch - 36ms/step\n",
      "Epoch 20/100\n",
      "1/1 - 0s - loss: 0.0414 - val_loss: 0.0381 - 39ms/epoch - 39ms/step\n",
      "Epoch 21/100\n",
      "1/1 - 0s - loss: 0.0393 - val_loss: 0.0362 - 36ms/epoch - 36ms/step\n",
      "Epoch 22/100\n",
      "1/1 - 0s - loss: 0.0377 - val_loss: 0.0347 - 34ms/epoch - 34ms/step\n",
      "Epoch 23/100\n",
      "1/1 - 0s - loss: 0.0366 - val_loss: 0.0336 - 34ms/epoch - 34ms/step\n",
      "Epoch 24/100\n",
      "1/1 - 0s - loss: 0.0358 - val_loss: 0.0330 - 36ms/epoch - 36ms/step\n",
      "Epoch 25/100\n",
      "1/1 - 0s - loss: 0.0354 - val_loss: 0.0326 - 48ms/epoch - 48ms/step\n",
      "Epoch 26/100\n",
      "1/1 - 0s - loss: 0.0352 - val_loss: 0.0324 - 39ms/epoch - 39ms/step\n",
      "Epoch 27/100\n",
      "1/1 - 0s - loss: 0.0352 - val_loss: 0.0324 - 33ms/epoch - 33ms/step\n",
      "Epoch 28/100\n",
      "1/1 - 0s - loss: 0.0354 - val_loss: 0.0325 - 34ms/epoch - 34ms/step\n",
      "Epoch 29/100\n",
      "1/1 - 0s - loss: 0.0356 - val_loss: 0.0326 - 34ms/epoch - 34ms/step\n",
      "Epoch 30/100\n",
      "1/1 - 0s - loss: 0.0359 - val_loss: 0.0328 - 35ms/epoch - 35ms/step\n",
      "Epoch 31/100\n",
      "1/1 - 0s - loss: 0.0361 - val_loss: 0.0330 - 35ms/epoch - 35ms/step\n",
      "Epoch 32/100\n",
      "1/1 - 0s - loss: 0.0364 - val_loss: 0.0332 - 38ms/epoch - 38ms/step\n",
      "Epoch 33/100\n",
      "1/1 - 0s - loss: 0.0366 - val_loss: 0.0333 - 36ms/epoch - 36ms/step\n",
      "Epoch 34/100\n",
      "1/1 - 0s - loss: 0.0367 - val_loss: 0.0333 - 32ms/epoch - 32ms/step\n",
      "Epoch 35/100\n",
      "1/1 - 0s - loss: 0.0368 - val_loss: 0.0333 - 39ms/epoch - 39ms/step\n",
      "Epoch 36/100\n",
      "1/1 - 0s - loss: 0.0368 - val_loss: 0.0333 - 34ms/epoch - 34ms/step\n",
      "Epoch 37/100\n",
      "1/1 - 0s - loss: 0.0367 - val_loss: 0.0331 - 36ms/epoch - 36ms/step\n",
      "Epoch 38/100\n",
      "1/1 - 0s - loss: 0.0365 - val_loss: 0.0330 - 34ms/epoch - 34ms/step\n",
      "Epoch 39/100\n",
      "1/1 - 0s - loss: 0.0363 - val_loss: 0.0328 - 34ms/epoch - 34ms/step\n",
      "Epoch 40/100\n",
      "1/1 - 0s - loss: 0.0360 - val_loss: 0.0326 - 34ms/epoch - 34ms/step\n",
      "Epoch 41/100\n",
      "1/1 - 0s - loss: 0.0358 - val_loss: 0.0323 - 33ms/epoch - 33ms/step\n",
      "Epoch 42/100\n",
      "1/1 - 0s - loss: 0.0355 - val_loss: 0.0321 - 34ms/epoch - 34ms/step\n",
      "Epoch 43/100\n",
      "1/1 - 0s - loss: 0.0352 - val_loss: 0.0319 - 34ms/epoch - 34ms/step\n",
      "Epoch 44/100\n",
      "1/1 - 0s - loss: 0.0349 - val_loss: 0.0317 - 31ms/epoch - 31ms/step\n",
      "Epoch 45/100\n",
      "1/1 - 0s - loss: 0.0346 - val_loss: 0.0315 - 36ms/epoch - 36ms/step\n",
      "Epoch 46/100\n",
      "1/1 - 0s - loss: 0.0343 - val_loss: 0.0313 - 33ms/epoch - 33ms/step\n",
      "Epoch 47/100\n",
      "1/1 - 0s - loss: 0.0341 - val_loss: 0.0312 - 34ms/epoch - 34ms/step\n",
      "Epoch 48/100\n",
      "1/1 - 0s - loss: 0.0339 - val_loss: 0.0311 - 34ms/epoch - 34ms/step\n",
      "Epoch 49/100\n",
      "1/1 - 0s - loss: 0.0337 - val_loss: 0.0310 - 34ms/epoch - 34ms/step\n",
      "Epoch 50/100\n",
      "1/1 - 0s - loss: 0.0335 - val_loss: 0.0309 - 34ms/epoch - 34ms/step\n",
      "Epoch 51/100\n",
      "1/1 - 0s - loss: 0.0334 - val_loss: 0.0309 - 35ms/epoch - 35ms/step\n",
      "Epoch 52/100\n",
      "1/1 - 0s - loss: 0.0332 - val_loss: 0.0309 - 33ms/epoch - 33ms/step\n",
      "Epoch 53/100\n",
      "1/1 - 0s - loss: 0.0331 - val_loss: 0.0308 - 33ms/epoch - 33ms/step\n",
      "Epoch 54/100\n",
      "1/1 - 0s - loss: 0.0330 - val_loss: 0.0308 - 32ms/epoch - 32ms/step\n",
      "Epoch 55/100\n",
      "1/1 - 0s - loss: 0.0330 - val_loss: 0.0308 - 32ms/epoch - 32ms/step\n",
      "Epoch 56/100\n",
      "1/1 - 0s - loss: 0.0329 - val_loss: 0.0308 - 37ms/epoch - 37ms/step\n",
      "Epoch 57/100\n",
      "1/1 - 0s - loss: 0.0328 - val_loss: 0.0308 - 33ms/epoch - 33ms/step\n",
      "Epoch 58/100\n",
      "1/1 - 0s - loss: 0.0328 - val_loss: 0.0308 - 33ms/epoch - 33ms/step\n",
      "Epoch 59/100\n",
      "1/1 - 0s - loss: 0.0327 - val_loss: 0.0308 - 32ms/epoch - 32ms/step\n",
      "Epoch 60/100\n",
      "1/1 - 0s - loss: 0.0327 - val_loss: 0.0308 - 34ms/epoch - 34ms/step\n",
      "Epoch 61/100\n",
      "1/1 - 0s - loss: 0.0326 - val_loss: 0.0308 - 35ms/epoch - 35ms/step\n",
      "Epoch 62/100\n",
      "1/1 - 0s - loss: 0.0326 - val_loss: 0.0307 - 35ms/epoch - 35ms/step\n",
      "Epoch 63/100\n",
      "1/1 - 0s - loss: 0.0325 - val_loss: 0.0307 - 38ms/epoch - 38ms/step\n",
      "Epoch 64/100\n",
      "1/1 - 0s - loss: 0.0325 - val_loss: 0.0307 - 38ms/epoch - 38ms/step\n",
      "Epoch 65/100\n",
      "1/1 - 0s - loss: 0.0324 - val_loss: 0.0306 - 35ms/epoch - 35ms/step\n",
      "Epoch 66/100\n",
      "1/1 - 0s - loss: 0.0323 - val_loss: 0.0305 - 34ms/epoch - 34ms/step\n",
      "Epoch 67/100\n",
      "1/1 - 0s - loss: 0.0322 - val_loss: 0.0305 - 32ms/epoch - 32ms/step\n",
      "Epoch 68/100\n",
      "1/1 - 0s - loss: 0.0322 - val_loss: 0.0304 - 32ms/epoch - 32ms/step\n",
      "Epoch 69/100\n",
      "1/1 - 0s - loss: 0.0321 - val_loss: 0.0303 - 33ms/epoch - 33ms/step\n",
      "Epoch 70/100\n",
      "1/1 - 0s - loss: 0.0320 - val_loss: 0.0302 - 32ms/epoch - 32ms/step\n",
      "Epoch 71/100\n",
      "1/1 - 0s - loss: 0.0319 - val_loss: 0.0302 - 34ms/epoch - 34ms/step\n",
      "Epoch 72/100\n",
      "1/1 - 0s - loss: 0.0318 - val_loss: 0.0301 - 33ms/epoch - 33ms/step\n",
      "Epoch 73/100\n",
      "1/1 - 0s - loss: 0.0318 - val_loss: 0.0300 - 33ms/epoch - 33ms/step\n",
      "Epoch 74/100\n",
      "1/1 - 0s - loss: 0.0317 - val_loss: 0.0299 - 34ms/epoch - 34ms/step\n",
      "Epoch 75/100\n",
      "1/1 - 0s - loss: 0.0316 - val_loss: 0.0298 - 35ms/epoch - 35ms/step\n",
      "Epoch 76/100\n",
      "1/1 - 0s - loss: 0.0315 - val_loss: 0.0297 - 36ms/epoch - 36ms/step\n",
      "Epoch 77/100\n",
      "1/1 - 0s - loss: 0.0314 - val_loss: 0.0297 - 36ms/epoch - 36ms/step\n",
      "Epoch 78/100\n",
      "1/1 - 0s - loss: 0.0314 - val_loss: 0.0296 - 33ms/epoch - 33ms/step\n",
      "Epoch 79/100\n",
      "1/1 - 0s - loss: 0.0313 - val_loss: 0.0295 - 34ms/epoch - 34ms/step\n",
      "Epoch 80/100\n",
      "1/1 - 0s - loss: 0.0312 - val_loss: 0.0294 - 35ms/epoch - 35ms/step\n",
      "Epoch 81/100\n",
      "1/1 - 0s - loss: 0.0311 - val_loss: 0.0293 - 32ms/epoch - 32ms/step\n",
      "Epoch 82/100\n",
      "1/1 - 0s - loss: 0.0311 - val_loss: 0.0293 - 32ms/epoch - 32ms/step\n",
      "Epoch 83/100\n",
      "1/1 - 0s - loss: 0.0310 - val_loss: 0.0292 - 32ms/epoch - 32ms/step\n",
      "Epoch 84/100\n",
      "1/1 - 0s - loss: 0.0309 - val_loss: 0.0291 - 33ms/epoch - 33ms/step\n",
      "Epoch 85/100\n",
      "1/1 - 0s - loss: 0.0308 - val_loss: 0.0291 - 38ms/epoch - 38ms/step\n",
      "Epoch 86/100\n",
      "1/1 - 0s - loss: 0.0308 - val_loss: 0.0290 - 39ms/epoch - 39ms/step\n",
      "Epoch 87/100\n",
      "1/1 - 0s - loss: 0.0307 - val_loss: 0.0289 - 42ms/epoch - 42ms/step\n",
      "Epoch 88/100\n",
      "1/1 - 0s - loss: 0.0306 - val_loss: 0.0289 - 34ms/epoch - 34ms/step\n",
      "Epoch 89/100\n",
      "1/1 - 0s - loss: 0.0305 - val_loss: 0.0288 - 31ms/epoch - 31ms/step\n",
      "Epoch 90/100\n",
      "1/1 - 0s - loss: 0.0305 - val_loss: 0.0288 - 31ms/epoch - 31ms/step\n",
      "Epoch 91/100\n",
      "1/1 - 0s - loss: 0.0304 - val_loss: 0.0287 - 34ms/epoch - 34ms/step\n",
      "Epoch 92/100\n",
      "1/1 - 0s - loss: 0.0303 - val_loss: 0.0287 - 30ms/epoch - 30ms/step\n",
      "Epoch 93/100\n",
      "1/1 - 0s - loss: 0.0303 - val_loss: 0.0286 - 34ms/epoch - 34ms/step\n",
      "Epoch 94/100\n",
      "1/1 - 0s - loss: 0.0302 - val_loss: 0.0285 - 34ms/epoch - 34ms/step\n",
      "Epoch 95/100\n",
      "1/1 - 0s - loss: 0.0301 - val_loss: 0.0285 - 34ms/epoch - 34ms/step\n",
      "Epoch 96/100\n",
      "1/1 - 0s - loss: 0.0300 - val_loss: 0.0284 - 35ms/epoch - 35ms/step\n",
      "Epoch 97/100\n",
      "1/1 - 0s - loss: 0.0300 - val_loss: 0.0284 - 33ms/epoch - 33ms/step\n",
      "Epoch 98/100\n",
      "1/1 - 0s - loss: 0.0299 - val_loss: 0.0283 - 33ms/epoch - 33ms/step\n",
      "Epoch 99/100\n",
      "1/1 - 0s - loss: 0.0298 - val_loss: 0.0283 - 37ms/epoch - 37ms/step\n",
      "Epoch 100/100\n",
      "1/1 - 0s - loss: 0.0297 - val_loss: 0.0282 - 39ms/epoch - 39ms/step\n",
      "dict_keys(['loss', 'val_loss'])\n"
     ]
    },
    {
     "data": {
      "image/png": "[encoded data removed]",
      "text/plain": [
       "<Figure size 640x480 with 1 Axes>"
      ]
     },
     "metadata": {},
     "output_type": "display_data"
    }
   ],
   "source": [
    "# reshape input to be [samples, time steps, features]\n",
    "X_train = np.reshape(X_train, (X_train.shape[0], 1, X_train.shape[1]))\n",
    "X_val = np.reshape(X_val, (X_val.shape[0], 1, X_val.shape[1]))\n",
    "\n",
    "# Generate LSTM network\n",
    "model = tf.keras.Sequential()\n",
    "model.add(LSTM(4, input_shape=(1, lookback)))\n",
    "model.add(Dense(1))\n",
    "model.compile(loss='mean_squared_error', optimizer='adam')\n",
    "history=model.fit(X_train, Y_train, validation_split=0.2, epochs=100, batch_size=712, verbose=2)\n",
    "\n",
    "# list all data in history\n",
    "print(history.history.keys())\n",
    "# summarize history for accuracy\n",
    "plt.plot(history.history['loss'])\n",
    "plt.plot(history.history['val_loss'])\n",
    "plt.title('model loss')\n",
    "plt.ylabel('loss')\n",
    "plt.xlabel('epoch')\n",
    "plt.legend(['train', 'val'], loc='upper left')\n",
    "plt.show()"
   ]
  },
  {
   "cell_type": "code",
   "execution_count": 24,
   "metadata": {},
   "outputs": [
    {
     "name": "stdout",
     "output_type": "stream",
     "text": [
      "14/14 [==============================] - 0s 1ms/step\n"
     ]
    },
    {
     "name": "stderr",
     "output_type": "stream",
     "text": [
      "2023-04-18 02:23:46.583504: I tensorflow/core/common_runtime/executor.cc:1197] [/device:CPU:0] (DEBUG INFO) Executor start aborting (this does not indicate an error and you can ignore this message): INVALID_ARGUMENT: You must feed a value for placeholder tensor 'gradients/split_2_grad/concat/split_2/split_dim' with dtype int32\n",
      "\t [[{{node gradients/split_2_grad/concat/split_2/split_dim}}]]\n",
      "2023-04-18 02:23:46.585195: I tensorflow/core/common_runtime/executor.cc:1197] [/device:CPU:0] (DEBUG INFO) Executor start aborting (this does not indicate an error and you can ignore this message): INVALID_ARGUMENT: You must feed a value for placeholder tensor 'gradients/split_grad/concat/split/split_dim' with dtype int32\n",
      "\t [[{{node gradients/split_grad/concat/split/split_dim}}]]\n",
      "2023-04-18 02:23:46.586461: I tensorflow/core/common_runtime/executor.cc:1197] [/device:CPU:0] (DEBUG INFO) Executor start aborting (this does not indicate an error and you can ignore this message): INVALID_ARGUMENT: You must feed a value for placeholder tensor 'gradients/split_1_grad/concat/split_1/split_dim' with dtype int32\n",
      "\t [[{{node gradients/split_1_grad/concat/split_1/split_dim}}]]\n"
     ]
    },
    {
     "name": "stdout",
     "output_type": "stream",
     "text": [
      "1/1 [==============================] - 0s 352ms/step\n"
     ]
    },
    {
     "name": "stderr",
     "output_type": "stream",
     "text": [
      "2023-04-18 02:23:47.021486: I tensorflow/core/common_runtime/executor.cc:1197] [/device:CPU:0] (DEBUG INFO) Executor start aborting (this does not indicate an error and you can ignore this message): INVALID_ARGUMENT: You must feed a value for placeholder tensor 'gradients/split_2_grad/concat/split_2/split_dim' with dtype int32\n",
      "\t [[{{node gradients/split_2_grad/concat/split_2/split_dim}}]]\n",
      "2023-04-18 02:23:47.023115: I tensorflow/core/common_runtime/executor.cc:1197] [/device:CPU:0] (DEBUG INFO) Executor start aborting (this does not indicate an error and you can ignore this message): INVALID_ARGUMENT: You must feed a value for placeholder tensor 'gradients/split_grad/concat/split/split_dim' with dtype int32\n",
      "\t [[{{node gradients/split_grad/concat/split/split_dim}}]]\n",
      "2023-04-18 02:23:47.024422: I tensorflow/core/common_runtime/executor.cc:1197] [/device:CPU:0] (DEBUG INFO) Executor start aborting (this does not indicate an error and you can ignore this message): INVALID_ARGUMENT: You must feed a value for placeholder tensor 'gradients/split_1_grad/concat/split_1/split_dim' with dtype int32\n",
      "\t [[{{node gradients/split_1_grad/concat/split_1/split_dim}}]]\n"
     ]
    }
   ],
   "source": [
    "# Generate predictions\n",
    "trainpred = model.predict(X_train)\n",
    "valpred = model.predict(X_val)"
   ]
  },
  {
   "cell_type": "code",
   "execution_count": 25,
   "metadata": {},
   "outputs": [
    {
     "data": {
      "text/plain": [
       "array([[0.45342445],\n",
       "       [0.33712816],\n",
       "       [0.32862216],\n",
       "       [0.36259842],\n",
       "       [0.3682964 ],\n",
       "       [0.31721386],\n",
       "       [0.35348397],\n",
       "       [0.33913356],\n",
       "       [0.34696838],\n",
       "       [0.3784014 ],\n",
       "       [0.3922601 ],\n",
       "       [0.39754167],\n",
       "       [0.42321926],\n",
       "       [0.42093056],\n",
       "       [0.33697116],\n",
       "       [0.30528557],\n",
       "       [0.36224398],\n",
       "       [0.28142154],\n",
       "       [0.33041775],\n",
       "       [0.331498  ],\n",
       "       [0.30166638],\n",
       "       [0.4100752 ],\n",
       "       [0.3866916 ],\n",
       "       [0.37248564],\n",
       "       [0.38423553],\n",
       "       [0.37818345],\n",
       "       [0.33666205],\n",
       "       [0.3196373 ],\n",
       "       [0.30537096],\n",
       "       [0.3370459 ],\n",
       "       [0.33640933],\n",
       "       [0.3226461 ],\n",
       "       [0.39080912],\n",
       "       [0.39363542],\n",
       "       [0.3312637 ],\n",
       "       [0.40869904],\n",
       "       [0.41625756],\n",
       "       [0.37670898],\n",
       "       [0.37295574],\n",
       "       [0.32181555],\n",
       "       [0.34310225],\n",
       "       [0.3320487 ],\n",
       "       [0.31319445],\n",
       "       [0.32229745],\n",
       "       [0.32416302],\n",
       "       [0.34356433],\n",
       "       [0.39544404],\n",
       "       [0.40587023],\n",
       "       [0.38984644],\n",
       "       [0.3799444 ],\n",
       "       [0.36003864],\n",
       "       [0.32607865],\n",
       "       [0.3423459 ],\n",
       "       [0.29012674],\n",
       "       [0.30066103],\n",
       "       [0.3040556 ],\n",
       "       [0.25170264],\n",
       "       [0.3779498 ],\n",
       "       [0.38219434],\n",
       "       [0.4026321 ],\n",
       "       [0.3753982 ],\n",
       "       [0.3878288 ],\n",
       "       [0.3600248 ],\n",
       "       [0.36772442],\n",
       "       [0.3283398 ],\n",
       "       [0.36483204],\n",
       "       [0.29059672],\n",
       "       [0.26690206],\n",
       "       [0.33745858],\n",
       "       [0.35051966],\n",
       "       [0.38058996],\n",
       "       [0.43169302],\n",
       "       [0.35653156],\n",
       "       [0.33855578],\n",
       "       [0.3704631 ],\n",
       "       [0.34868973],\n",
       "       [0.32694557],\n",
       "       [0.31277215],\n",
       "       [0.31754673],\n",
       "       [0.28920853],\n",
       "       [0.27695936],\n",
       "       [0.33529094],\n",
       "       [0.32817072],\n",
       "       [0.48165268],\n",
       "       [0.39667878],\n",
       "       [0.35112518],\n",
       "       [0.37053955],\n",
       "       [0.3046775 ],\n",
       "       [0.25713086],\n",
       "       [0.25550652],\n",
       "       [0.30157617],\n",
       "       [0.32430777],\n",
       "       [0.27247542],\n",
       "       [0.35240293],\n",
       "       [0.35916936],\n",
       "       [0.37311533],\n",
       "       [0.44267735],\n",
       "       [0.36501247],\n",
       "       [0.36523703],\n",
       "       [0.3184513 ],\n",
       "       [0.31640333],\n",
       "       [0.27653068],\n",
       "       [0.30852094],\n",
       "       [0.33633378],\n",
       "       [0.32082483],\n",
       "       [0.31274465],\n",
       "       [0.307454  ],\n",
       "       [0.37887484],\n",
       "       [0.36726484],\n",
       "       [0.4315569 ],\n",
       "       [0.34282753],\n",
       "       [0.32674667],\n",
       "       [0.32432604],\n",
       "       [0.3752324 ],\n",
       "       [0.253891  ],\n",
       "       [0.3090655 ],\n",
       "       [0.28373894],\n",
       "       [0.30902308],\n",
       "       [0.35841238],\n",
       "       [0.3899532 ],\n",
       "       [0.37236166],\n",
       "       [0.38293943],\n",
       "       [0.41880915],\n",
       "       [0.3493775 ],\n",
       "       [0.3613801 ],\n",
       "       [0.2717355 ],\n",
       "       [0.26995328],\n",
       "       [0.30736944],\n",
       "       [0.29428473],\n",
       "       [0.33367503],\n",
       "       [0.38344067],\n",
       "       [0.39699805],\n",
       "       [0.37732917],\n",
       "       [0.3928826 ],\n",
       "       [0.39768213],\n",
       "       [0.2725499 ],\n",
       "       [0.32539967],\n",
       "       [0.275679  ],\n",
       "       [0.21314129],\n",
       "       [0.34502077],\n",
       "       [0.3455193 ],\n",
       "       [0.38300854],\n",
       "       [0.3822528 ],\n",
       "       [0.35897246],\n",
       "       [0.3555822 ],\n",
       "       [0.3762771 ],\n",
       "       [0.4050367 ],\n",
       "       [0.32238472],\n",
       "       [0.2838919 ],\n",
       "       [0.32246453],\n",
       "       [0.3264482 ],\n",
       "       [0.3525711 ],\n",
       "       [0.36738276],\n",
       "       [0.3558865 ],\n",
       "       [0.36500233],\n",
       "       [0.4384368 ],\n",
       "       [0.41872296],\n",
       "       [0.38095662],\n",
       "       [0.37363845],\n",
       "       [0.3003657 ],\n",
       "       [0.3643639 ],\n",
       "       [0.34981826],\n",
       "       [0.33547294],\n",
       "       [0.31453583],\n",
       "       [0.33205718],\n",
       "       [0.3479777 ],\n",
       "       [0.36942688],\n",
       "       [0.42576474],\n",
       "       [0.437154  ],\n",
       "       [0.36602056],\n",
       "       [0.3831506 ],\n",
       "       [0.39678094],\n",
       "       [0.28555378],\n",
       "       [0.28393224],\n",
       "       [0.326823  ],\n",
       "       [0.24996652],\n",
       "       [0.28971088],\n",
       "       [0.36086679],\n",
       "       [0.34506476],\n",
       "       [0.43558955],\n",
       "       [0.44565204],\n",
       "       [0.39497906],\n",
       "       [0.38332596],\n",
       "       [0.35366252],\n",
       "       [0.38860458],\n",
       "       [0.28086546],\n",
       "       [0.30550006],\n",
       "       [0.24368618],\n",
       "       [0.39141926],\n",
       "       [0.42473102],\n",
       "       [0.362796  ],\n",
       "       [0.41495672],\n",
       "       [0.4612769 ],\n",
       "       [0.40431082],\n",
       "       [0.39695153],\n",
       "       [0.39401785],\n",
       "       [0.32090104],\n",
       "       [0.3121256 ],\n",
       "       [0.32403746],\n",
       "       [0.29161265],\n",
       "       [0.33052373],\n",
       "       [0.41308475],\n",
       "       [0.39036545],\n",
       "       [0.45633918],\n",
       "       [0.37009346],\n",
       "       [0.3912099 ],\n",
       "       [0.35364193],\n",
       "       [0.33779925],\n",
       "       [0.3544272 ],\n",
       "       [0.29770467],\n",
       "       [0.3606475 ],\n",
       "       [0.3189611 ],\n",
       "       [0.3405946 ],\n",
       "       [0.38791782],\n",
       "       [0.40751135],\n",
       "       [0.3914994 ],\n",
       "       [0.38902354],\n",
       "       [0.35743916],\n",
       "       [0.46235064],\n",
       "       [0.3543442 ],\n",
       "       [0.2717551 ],\n",
       "       [0.33267906],\n",
       "       [0.37408522],\n",
       "       [0.34532693],\n",
       "       [0.39981028],\n",
       "       [0.41274422],\n",
       "       [0.3535923 ],\n",
       "       [0.46758378],\n",
       "       [0.3761993 ],\n",
       "       [0.41722727],\n",
       "       [0.3468716 ],\n",
       "       [0.3516947 ],\n",
       "       [0.37083042],\n",
       "       [0.3526063 ],\n",
       "       [0.31193525],\n",
       "       [0.2515792 ],\n",
       "       [0.37200937],\n",
       "       [0.39010912],\n",
       "       [0.39211282],\n",
       "       [0.41637123],\n",
       "       [0.41244993],\n",
       "       [0.4224527 ],\n",
       "       [0.39885664],\n",
       "       [0.34700888],\n",
       "       [0.32891342],\n",
       "       [0.30253065],\n",
       "       [0.40283793],\n",
       "       [0.23615274],\n",
       "       [0.32142588],\n",
       "       [0.36877793],\n",
       "       [0.38615572],\n",
       "       [0.49404228],\n",
       "       [0.4527571 ],\n",
       "       [0.41855896],\n",
       "       [0.37207276],\n",
       "       [0.33857983],\n",
       "       [0.3590995 ],\n",
       "       [0.254404  ],\n",
       "       [0.29717925],\n",
       "       [0.27420443],\n",
       "       [0.41558835],\n",
       "       [0.4663043 ],\n",
       "       [0.32509398],\n",
       "       [0.38416156],\n",
       "       [0.40954238],\n",
       "       [0.41462874],\n",
       "       [0.4165225 ],\n",
       "       [0.36553413],\n",
       "       [0.32684106],\n",
       "       [0.26594183],\n",
       "       [0.3405112 ],\n",
       "       [0.31369385],\n",
       "       [0.37297112],\n",
       "       [0.3844896 ],\n",
       "       [0.33039287],\n",
       "       [0.38160765],\n",
       "       [0.41301405],\n",
       "       [0.43232548],\n",
       "       [0.42635328],\n",
       "       [0.40991777],\n",
       "       [0.37386754],\n",
       "       [0.26086134],\n",
       "       [0.3680913 ],\n",
       "       [0.33252364],\n",
       "       [0.30644083],\n",
       "       [0.40284604],\n",
       "       [0.41264948],\n",
       "       [0.41271037],\n",
       "       [0.40064168],\n",
       "       [0.414364  ],\n",
       "       [0.37238383],\n",
       "       [0.3758131 ],\n",
       "       [0.35077572],\n",
       "       [0.33104682],\n",
       "       [0.35613853],\n",
       "       [0.2959796 ],\n",
       "       [0.34364057],\n",
       "       [0.40708822],\n",
       "       [0.4250558 ],\n",
       "       [0.48804122],\n",
       "       [0.35043278],\n",
       "       [0.37201083],\n",
       "       [0.38093472],\n",
       "       [0.3813875 ],\n",
       "       [0.38934076],\n",
       "       [0.32091174],\n",
       "       [0.3371706 ],\n",
       "       [0.34877858],\n",
       "       [0.38704455],\n",
       "       [0.39415792],\n",
       "       [0.3812756 ],\n",
       "       [0.41197845],\n",
       "       [0.30082446],\n",
       "       [0.39226377],\n",
       "       [0.43072388],\n",
       "       [0.4238183 ],\n",
       "       [0.335894  ],\n",
       "       [0.31854331],\n",
       "       [0.31750792],\n",
       "       [0.31424004],\n",
       "       [0.2983995 ],\n",
       "       [0.36156377],\n",
       "       [0.3496744 ],\n",
       "       [0.43394136],\n",
       "       [0.47571397],\n",
       "       [0.42694062],\n",
       "       [0.38619515],\n",
       "       [0.37706858],\n",
       "       [0.3631158 ],\n",
       "       [0.30035183],\n",
       "       [0.38441837],\n",
       "       [0.3223562 ],\n",
       "       [0.31010622],\n",
       "       [0.3498019 ],\n",
       "       [0.33629394],\n",
       "       [0.3948121 ],\n",
       "       [0.4582953 ],\n",
       "       [0.42494807],\n",
       "       [0.32896215],\n",
       "       [0.3526451 ],\n",
       "       [0.3743366 ],\n",
       "       [0.29934818],\n",
       "       [0.3146736 ],\n",
       "       [0.33850205],\n",
       "       [0.3348031 ],\n",
       "       [0.36155325],\n",
       "       [0.38545135],\n",
       "       [0.40740398],\n",
       "       [0.40522772],\n",
       "       [0.41019082],\n",
       "       [0.374012  ],\n",
       "       [0.36722153],\n",
       "       [0.40131545],\n",
       "       [0.27593526],\n",
       "       [0.31895405],\n",
       "       [0.32191774],\n",
       "       [0.39968237],\n",
       "       [0.37426043],\n",
       "       [0.39239958],\n",
       "       [0.34510148],\n",
       "       [0.37639588],\n",
       "       [0.4200849 ],\n",
       "       [0.38728023],\n",
       "       [0.3889965 ],\n",
       "       [0.3663341 ],\n",
       "       [0.3070066 ],\n",
       "       [0.32950026],\n",
       "       [0.3339287 ],\n",
       "       [0.30951995],\n",
       "       [0.36456138],\n",
       "       [0.35830027],\n",
       "       [0.3625111 ],\n",
       "       [0.44655788],\n",
       "       [0.41441447],\n",
       "       [0.4056633 ],\n",
       "       [0.39522925],\n",
       "       [0.34341228],\n",
       "       [0.3015858 ],\n",
       "       [0.3681627 ],\n",
       "       [0.32109183],\n",
       "       [0.3333662 ],\n",
       "       [0.29478598],\n",
       "       [0.3760516 ],\n",
       "       [0.4468424 ],\n",
       "       [0.4093234 ],\n",
       "       [0.4428376 ],\n",
       "       [0.4373942 ],\n",
       "       [0.32227892],\n",
       "       [0.29077804],\n",
       "       [0.31591427],\n",
       "       [0.3141833 ],\n",
       "       [0.3418018 ],\n",
       "       [0.31631953],\n",
       "       [0.326621  ],\n",
       "       [0.42778313],\n",
       "       [0.44299954],\n",
       "       [0.41551524],\n",
       "       [0.3737446 ],\n",
       "       [0.38317344],\n",
       "       [0.39832667],\n",
       "       [0.3729037 ],\n",
       "       [0.3116258 ],\n",
       "       [0.36598784],\n",
       "       [0.27335212],\n",
       "       [0.3639171 ],\n",
       "       [0.40696025],\n",
       "       [0.33299193],\n",
       "       [0.37103796],\n",
       "       [0.36380094],\n",
       "       [0.36637023],\n",
       "       [0.34332252],\n",
       "       [0.4233562 ],\n",
       "       [0.3828345 ],\n",
       "       [0.33392936],\n",
       "       [0.2995538 ],\n",
       "       [0.36674887],\n",
       "       [0.34225658],\n",
       "       [0.3741747 ],\n",
       "       [0.36251578],\n",
       "       [0.35200286],\n",
       "       [0.39908242],\n",
       "       [0.42206436],\n",
       "       [0.3731897 ],\n",
       "       [0.37157288],\n",
       "       [0.368994  ],\n",
       "       [0.34264874],\n",
       "       [0.34656477],\n",
       "       [0.34044695],\n",
       "       [0.39459538],\n",
       "       [0.32706207],\n",
       "       [0.38267463],\n",
       "       [0.42813116],\n",
       "       [0.3723613 ],\n",
       "       [0.43208462],\n",
       "       [0.3517102 ],\n",
       "       [0.36462194],\n",
       "       [0.34776416],\n",
       "       [0.32032916],\n",
       "       [0.29617983],\n",
       "       [0.3326165 ],\n",
       "       [0.31814224],\n",
       "       [0.37745303],\n",
       "       [0.39809793],\n",
       "       [0.47082123],\n",
       "       [0.4253229 ],\n",
       "       [0.38054633],\n",
       "       [0.36708206],\n",
       "       [0.36048278]], dtype=float32)"
      ]
     },
     "execution_count": 25,
     "metadata": {},
     "output_type": "execute_result"
    }
   ],
   "source": [
    "trainpred"
   ]
  },
  {
   "cell_type": "code",
   "execution_count": 26,
   "metadata": {},
   "outputs": [
    {
     "data": {
      "text/plain": [
       "array([[0.32948917],\n",
       "       [0.411622  ],\n",
       "       [0.3702225 ],\n",
       "       [0.3072066 ],\n",
       "       [0.3512109 ],\n",
       "       [0.38323843],\n",
       "       [0.42676497],\n",
       "       [0.4330617 ],\n",
       "       [0.46892583],\n",
       "       [0.3867479 ],\n",
       "       [0.319139  ],\n",
       "       [0.3297835 ],\n",
       "       [0.38152164],\n",
       "       [0.29575276],\n",
       "       [0.35812208],\n",
       "       [0.36932018],\n",
       "       [0.41303593],\n",
       "       [0.45996377],\n",
       "       [0.41387445],\n",
       "       [0.4307616 ],\n",
       "       [0.4196158 ],\n",
       "       [0.35466874]], dtype=float32)"
      ]
     },
     "execution_count": 26,
     "metadata": {},
     "output_type": "execute_result"
    }
   ],
   "source": [
    "valpred"
   ]
  },
  {
   "cell_type": "code",
   "execution_count": 27,
   "metadata": {},
   "outputs": [],
   "source": [
    "# Convert predictions back to normal values\n",
    "trainpred = scaler.inverse_transform(trainpred)\n",
    "Y_train = scaler.inverse_transform([Y_train])\n",
    "valpred = scaler.inverse_transform(valpred)\n",
    "Y_val = scaler.inverse_transform([Y_val])\n",
    "predictions = valpred"
   ]
  },
  {
   "cell_type": "code",
   "execution_count": 28,
   "metadata": {},
   "outputs": [
    {
     "data": {
      "text/plain": [
       "(1, 448)"
      ]
     },
     "execution_count": 28,
     "metadata": {},
     "output_type": "execute_result"
    }
   ],
   "source": [
    "Y_train.shape"
   ]
  },
  {
   "cell_type": "code",
   "execution_count": 29,
   "metadata": {},
   "outputs": [
    {
     "data": {
      "text/plain": [
       "(1, 22)"
      ]
     },
     "execution_count": 29,
     "metadata": {},
     "output_type": "execute_result"
    }
   ],
   "source": [
    "Y_val.shape"
   ]
  },
  {
   "cell_type": "code",
   "execution_count": 30,
   "metadata": {},
   "outputs": [
    {
     "data": {
      "text/plain": [
       "(448, 1, 120)"
      ]
     },
     "execution_count": 30,
     "metadata": {},
     "output_type": "execute_result"
    }
   ],
   "source": [
    "X_train.shape"
   ]
  },
  {
   "cell_type": "code",
   "execution_count": 31,
   "metadata": {},
   "outputs": [
    {
     "data": {
      "text/plain": [
       "(22, 1, 120)"
      ]
     },
     "execution_count": 31,
     "metadata": {},
     "output_type": "execute_result"
    }
   ],
   "source": [
    "X_val.shape"
   ]
  },
  {
   "cell_type": "code",
   "execution_count": 32,
   "metadata": {},
   "outputs": [
    {
     "data": {
      "text/plain": [
       "array([[180.83457944, 172.40373832,  74.85981308, 252.81401869,\n",
       "        139.40560748, 146.92990654,  50.74579439,  62.71214953,\n",
       "        126.8953271 , 116.01682243, 169.95607477, 215.28317757,\n",
       "        191.89439252,  85.19439252, 129.07102804, 132.51588785,\n",
       "         92.35607477,  41.40841121,  64.79719626, 114.74766355,\n",
       "         57.18224299,  80.66168224,  89.00186916, 112.39065421,\n",
       "        202.8635514 ,  77.12616822, 110.21495327,  99.97102804,\n",
       "        137.50186916, 138.40841121, 138.77102804,  94.5317757 ,\n",
       "         55.91308411,  73.59065421,  22.46168224,  64.88785047,\n",
       "        184.73271028, 164.42616822, 163.51962617, 146.65794393,\n",
       "         84.92242991,  81.20560748, 115.83551402,  71.50560748,\n",
       "         69.42056075, 157.6271028 ,  96.25420561, 108.40186916,\n",
       "        228.42803738, 145.29813084, 215.64579439, 143.0317757 ,\n",
       "         91.63084112,  28.08224299,  76.40093458,  71.05233645,\n",
       "        128.25514019, 138.77102804, 182.01308411, 111.48411215,\n",
       "        180.47196262, 194.07009346, 247.01214953,  37.9635514 ,\n",
       "         75.31308411, 110.30560748,  26.90373832,  53.91869159,\n",
       "        162.97570093,  92.53738318, 121.09345794, 143.57570093,\n",
       "        152.18785047,  84.10654206, 216.09906542,  76.40093458,\n",
       "        122.90654206,  65.79439252, 131.24672897,  68.87663551,\n",
       "         65.70373832,  16.02523364,  93.44392523, 136.5046729 ,\n",
       "        139.31495327, 145.20747664, 117.1046729 , 125.35420561,\n",
       "        148.74299065, 145.29813084,  44.67196262,  97.07009346,\n",
       "         80.75233645, 100.60560748, 130.79345794, 192.80093458,\n",
       "        233.86728972, 137.41121495, 219.81588785,  96.79813084,\n",
       "        243.02336449,  44.49065421,  40.77383178,  82.56542056,\n",
       "         78.75794393, 111.66542056, 236.04299065,  75.49439252,\n",
       "        176.84579439, 172.49439252, 135.68878505,  64.25327103,\n",
       "        179.74672897, 113.9317757 , 137.04859813,  56.00373832,\n",
       "         71.8682243 , 178.29626168, 141.4       , 141.30934579,\n",
       "        208.57476636, 200.32523364, 131.88130841, 115.74485981,\n",
       "        127.89252336,  26.6317757 ,  33.61214953, 164.78878505,\n",
       "        151.00934579, 103.23457944, 246.64953271, 179.29345794,\n",
       "        185.63925234, 278.10654206, 154.99813084, 106.95140187,\n",
       "        170.40934579,  55.45981308, 151.82523364,  89.36448598,\n",
       "        111.12149533, 102.23738318, 233.86728972, 201.1411215 ,\n",
       "        122.18130841, 122.54392523, 136.86728972, 118.91775701,\n",
       "        172.67570093,  38.59813084,  91.81214953, 119.73364486,\n",
       "         33.43084112, 133.51308411, 114.65700935, 152.6411215 ,\n",
       "        197.87757009, 281.27943925, 195.88317757,  92.44672897,\n",
       "        193.34485981,  95.16635514,  93.35327103,  50.02056075,\n",
       "         48.29813084,  51.38037383, 170.31869159, 246.74018692,\n",
       "         85.46635514, 168.05233645, 278.65046729, 133.3317757 ,\n",
       "         77.67009346,  74.67850467,  39.14205607,  81.11495327,\n",
       "         50.9271028 ,  79.9364486 , 158.53364486, 235.77102804,\n",
       "        158.26168224, 172.40373832, 112.20934579,  61.89626168,\n",
       "        162.79439252, 102.41869159, 131.88130841,  85.55700935,\n",
       "        108.49252336, 246.28691589, 232.32616822,  83.56261682,\n",
       "         78.84859813, 158.98691589, 208.30280374,  15.3       ,\n",
       "        204.76728972, 138.1364486 , 196.69906542, 103.23457944,\n",
       "         99.06448598, 155.9953271 ,  33.43084112, 208.75607477,\n",
       "        214.73925234, 257.52803738,  84.19719626,  99.88037383,\n",
       "        151.82523364,  61.17102804,  72.68411215,  86.64485981,\n",
       "        105.22897196, 138.2271028 , 144.75420561, 175.3046729 ,\n",
       "        156.44859813, 106.67943925, 247.91869159, 141.30934579,\n",
       "        220.99439252,  59.72056075,  72.86542056,  58.9046729 ,\n",
       "        156.53925234, 176.84579439, 169.04953271, 171.76915888,\n",
       "         92.62803738, 115.01962617, 134.8728972 , 171.22523364,\n",
       "        166.23925234,  80.84299065,  51.38037383, 103.59719626,\n",
       "         44.94392523, 185.72990654,  79.12056075, 290.88878505,\n",
       "        112.84392523, 133.51308411, 222.35420561, 251.54485981,\n",
       "        111.39345794, 127.34859813,  29.71401869, 116.19813084,\n",
       "         84.10654206,  97.97663551,  81.20560748, 257.61869159,\n",
       "        149.37757009, 237.49345794, 147.38317757, 101.96542056,\n",
       "        123.81308411, 203.77009346,  35.87850467, 116.01682243,\n",
       "        118.55514019,  92.53738318,  98.33925234, 139.67757009,\n",
       "        195.52056075, 161.16261682, 107.67663551, 137.50186916,\n",
       "        190.53457944, 139.13364486, 100.42429907,  57.2728972 ,\n",
       "        129.97757009, 199.32803738, 138.31775701, 160.70934579,\n",
       "        235.04579439, 138.86168224, 210.38785047,  69.14859813,\n",
       "         92.08411215, 125.62616822, 151.37196262, 110.12429907,\n",
       "        120.3682243 ,  87.91401869, 102.23738318,  59.44859813,\n",
       "         86.01028037, 316.72523364, 233.32336449, 113.47850467,\n",
       "        253.26728972, 159.98411215,  90.81495327, 119.18971963,\n",
       "         89.99906542,  95.34766355,  81.5682243 ,  92.62803738,\n",
       "        134.60093458, 237.40280374, 211.02242991, 159.2588785 ,\n",
       "        175.93925234,  68.42336449,  87.09813084,  42.13364486,\n",
       "        128.98037383,  20.46728972, 103.86915888, 172.31308411,\n",
       "        134.69158879,  69.60186916,  74.22523364, 180.29065421,\n",
       "         80.11775701,  91.54018692,  93.80654206,  61.71495327,\n",
       "        100.33364486, 109.39906542,  75.94766355, 201.2317757 ,\n",
       "        179.11214953,  95.43831776,  36.15046729, 192.80093458,\n",
       "         91.44953271,  49.47663551, 101.33084112,  83.29065421,\n",
       "        123.45046729, 107.4953271 , 122.99719626,  98.61121495,\n",
       "        129.34299065, 218.63738318, 160.89065421, 131.24672897,\n",
       "        121.36542056,  98.70186916,  71.05233645, 147.8364486 ,\n",
       "        142.39719626, 227.34018692,  97.7953271 , 230.87570093,\n",
       "        175.3953271 , 190.89719626, 221.71962617, 164.0635514 ,\n",
       "        113.02523364, 144.93551402,  86.28224299,  82.74672897,\n",
       "         95.34766355, 137.68317757, 179.02149533, 113.8411215 ,\n",
       "        204.13271028, 335.4       , 131.51869159, 213.47009346,\n",
       "        122.45327103, 115.83551402,  83.47196262,  89.99906542,\n",
       "         62.07757009, 185.63925234, 146.74859813, 287.98785047,\n",
       "        217.64018692, 170.04672897,  84.01588785,  93.62523364,\n",
       "         98.70186916,  96.79813084,  59.81121495, 112.11869159,\n",
       "         98.15794393, 169.77476636,  73.22803738, 139.22429907,\n",
       "        170.59065421,  99.60841121, 139.22429907, 247.55607477,\n",
       "         99.06448598, 111.84672897, 118.55514019, 148.56168224,\n",
       "         81.93084112, 115.74485981,  45.75981308, 195.61121495,\n",
       "        219.54392523, 132.24392523, 133.78504673,  91.44953271,\n",
       "         92.53738318,  70.78037383, 190.98785047,  72.86542056,\n",
       "        103.14392523,  59.26728972,  98.33925234, 111.12149533,\n",
       "        187.36168224, 143.66635514, 180.10934579,  75.94766355,\n",
       "        122.99719626, 116.92336449,  85.10373832, 111.66542056,\n",
       "        105.04766355, 103.77850467, 190.80654206, 185.54859813,\n",
       "        114.29439252, 224.89252336, 270.21962617, 105.50093458,\n",
       "         80.38971963, 123.90373832, 137.68317757,  98.79252336,\n",
       "         50.65514019, 130.70280374, 122.81588785, 132.24392523,\n",
       "        184.18878505, 158.44299065,  97.7046729 , 101.14953271,\n",
       "        132.96915888, 105.50093458, 133.69439252,  45.03457944,\n",
       "         64.16261682,  73.31869159, 172.85700935, 172.1317757 ,\n",
       "        185.0953271 , 246.74018692, 194.7046729 , 116.47009346]])"
      ]
     },
     "execution_count": 32,
     "metadata": {},
     "output_type": "execute_result"
    }
   ],
   "source": [
    "Y_train"
   ]
  },
  {
   "cell_type": "code",
   "execution_count": 33,
   "metadata": {},
   "outputs": [
    {
     "data": {
      "text/plain": [
       "array([[ 25.3,  63. ,  98.8, 182.2, 186.2, 146.8, 177.2, 207. , 181.3,\n",
       "        269.7, 155. ,  87.3,  86.2,  63.7,  61.4,  55.4, 174.9, 142.2,\n",
       "        131.2, 150.6, 189.1, 139.1]])"
      ]
     },
     "execution_count": 33,
     "metadata": {},
     "output_type": "execute_result"
    }
   ],
   "source": [
    "Y_val"
   ]
  },
  {
   "cell_type": "code",
   "execution_count": 34,
   "metadata": {},
   "outputs": [
    {
     "data": {
      "text/plain": [
       "array([[[0.53242707, 0.82242991, 0.34806004, ..., 0.21042198,\n",
       "         0.16765789, 0.28518833]],\n",
       "\n",
       "       [[0.82242991, 0.34806004, 0.28632116, ..., 0.16765789,\n",
       "         0.28518833, 0.51713396]],\n",
       "\n",
       "       [[0.34806004, 0.28632116, 0.13848768, ..., 0.28518833,\n",
       "         0.51713396, 0.49079581]],\n",
       "\n",
       "       ...,\n",
       "\n",
       "       [[0.25035401, 0.06513735, 0.55451713, ..., 0.49221184,\n",
       "         0.48994619, 0.53044463]],\n",
       "\n",
       "       [[0.06513735, 0.55451713, 0.23789295, ..., 0.48994619,\n",
       "         0.53044463, 0.72302464]],\n",
       "\n",
       "       [[0.55451713, 0.23789295, 0.10676862, ..., 0.53044463,\n",
       "         0.72302464, 0.56046446]]])"
      ]
     },
     "execution_count": 34,
     "metadata": {},
     "output_type": "execute_result"
    }
   ],
   "source": [
    "X_train"
   ]
  },
  {
   "cell_type": "code",
   "execution_count": 35,
   "metadata": {},
   "outputs": [
    {
     "data": {
      "text/plain": [
       "array([[[0.12621056, 0.33208372, 0.33052171, ..., 0.24023743,\n",
       "         0.3948766 , 0.657607  ]],\n",
       "\n",
       "       [[0.33208372, 0.33052171, 0.55107779, ..., 0.3948766 ,\n",
       "         0.657607  , 0.03124024]],\n",
       "\n",
       "       [[0.33052171, 0.55107779, 0.22524211, ..., 0.657607  ,\n",
       "         0.03124024, 0.14901593]],\n",
       "\n",
       "       ...,\n",
       "\n",
       "       [[0.51233989, 0.35613871, 0.40143705, ..., 0.49859419,\n",
       "         0.39643861, 0.36207435]],\n",
       "\n",
       "       [[0.35613871, 0.40143705, 0.1452671 , ..., 0.39643861,\n",
       "         0.36207435, 0.42268041]],\n",
       "\n",
       "       [[0.40143705, 0.1452671 , 0.33676976, ..., 0.36207435,\n",
       "         0.42268041, 0.54295533]]])"
      ]
     },
     "execution_count": 35,
     "metadata": {},
     "output_type": "execute_result"
    }
   ],
   "source": [
    "X_val"
   ]
  },
  {
   "cell_type": "code",
   "execution_count": 36,
   "metadata": {},
   "outputs": [
    {
     "name": "stdout",
     "output_type": "stream",
     "text": [
      "Train Score: 54.86 RMSE\n",
      "Validation Score: 55.42 RMSE\n"
     ]
    }
   ],
   "source": [
    "# calculate RMSE\n",
    "trainScore = math.sqrt(mean_squared_error(Y_train[0], trainpred[:,0]))\n",
    "print('Train Score: %.2f RMSE' % (trainScore))\n",
    "valScore = math.sqrt(mean_squared_error(Y_val[0], valpred[:,0]))\n",
    "print('Validation Score: %.2f RMSE' % (valScore))"
   ]
  },
  {
   "cell_type": "code",
   "execution_count": 37,
   "metadata": {},
   "outputs": [],
   "source": [
    "# Train predictions\n",
    "trainpredPlot = np.empty_like(df)\n",
    "trainpredPlot[:, :] = np.nan\n",
    "trainpredPlot[lookback:len(trainpred)+lookback, :] = trainpred"
   ]
  },
  {
   "cell_type": "code",
   "execution_count": 38,
   "metadata": {},
   "outputs": [],
   "source": [
    "# Validation predictions\n",
    "valpredPlot = np.empty_like(df)\n",
    "valpredPlot[:, :] = np.nan\n",
    "valpredPlot[len(trainpred)+(lookback*2)+1:len(df)-1, :] = valpred"
   ]
  },
  {
   "cell_type": "code",
   "execution_count": 39,
   "metadata": {},
   "outputs": [
    {
     "data": {
      "image/png": "[encoded data removed]",
      "text/plain": [
       "<Figure size 640x480 with 1 Axes>"
      ]
     },
     "metadata": {},
     "output_type": "display_data"
    }
   ],
   "source": [
    "# Plot all predictions\n",
    "inversetransform, =plt.plot(scaler.inverse_transform(df))\n",
    "trainpred, =plt.plot(scaler.inverse_transform(trainpredPlot))\n",
    "valpred, =plt.plot(scaler.inverse_transform(valpredPlot))\n",
    "plt.xlabel('Days')\n",
    "plt.ylabel('Rainfall')\n",
    "plt.title(\"Predicted vs. Actual Rainfall\")\n",
    "plt.show()"
   ]
  },
  {
   "cell_type": "code",
   "execution_count": 40,
   "metadata": {},
   "outputs": [],
   "source": [
    "Y_val=Y_val.reshape(-1)\n",
    "Y_val.shape\n",
    "Y_val=pd.Series(Y_val)"
   ]
  },
  {
   "cell_type": "code",
   "execution_count": 41,
   "metadata": {},
   "outputs": [
    {
     "data": {
      "text/plain": [
       "0      25.3\n",
       "1      63.0\n",
       "2      98.8\n",
       "3     182.2\n",
       "4     186.2\n",
       "5     146.8\n",
       "6     177.2\n",
       "7     207.0\n",
       "8     181.3\n",
       "9     269.7\n",
       "10    155.0\n",
       "11     87.3\n",
       "12     86.2\n",
       "13     63.7\n",
       "14     61.4\n",
       "15     55.4\n",
       "16    174.9\n",
       "17    142.2\n",
       "18    131.2\n",
       "19    150.6\n",
       "20    189.1\n",
       "21    139.1\n",
       "dtype: float64"
      ]
     },
     "execution_count": 41,
     "metadata": {},
     "output_type": "execute_result"
    }
   ],
   "source": [
    "Y_val"
   ]
  },
  {
   "cell_type": "code",
   "execution_count": 42,
   "metadata": {},
   "outputs": [],
   "source": [
    "predictions=predictions.reshape(-1)\n",
    "predictions.shape\n",
    "predictions=pd.Series(predictions)"
   ]
  },
  {
   "cell_type": "code",
   "execution_count": 43,
   "metadata": {},
   "outputs": [
    {
     "data": {
      "text/plain": [
       "0     120.769485\n",
       "1     147.060196\n",
       "2     133.808228\n",
       "3     113.636833\n",
       "4     127.722603\n",
       "5     137.974625\n",
       "6     151.907471\n",
       "7     153.923050\n",
       "8     165.403152\n",
       "9     139.098007\n",
       "10    117.456398\n",
       "11    120.863701\n",
       "12    137.425079\n",
       "13    109.970459\n",
       "14    129.934875\n",
       "15    133.519394\n",
       "16    147.512802\n",
       "17    162.534409\n",
       "18    147.781204\n",
       "19    153.186783\n",
       "20    149.619019\n",
       "21    128.829468\n",
       "dtype: float32"
      ]
     },
     "execution_count": 43,
     "metadata": {},
     "output_type": "execute_result"
    }
   ],
   "source": [
    "predictions"
   ]
  },
  {
   "cell_type": "code",
   "execution_count": 44,
   "metadata": {},
   "outputs": [],
   "source": [
    "import numpy as np\n",
    "\n",
    "def mda(actual: np.ndarray, predicted: np.ndarray):\n",
    "    \"\"\" Mean Directional Accuracy \"\"\"\n",
    "    return np.mean((np.sign(actual[1:] - actual[:-1]) == np.sign(predicted[1:] - predicted[:-1])).astype(int))"
   ]
  },
  {
   "cell_type": "code",
   "execution_count": 45,
   "metadata": {},
   "outputs": [
    {
     "data": {
      "text/plain": [
       "0.9090909090909091"
      ]
     },
     "execution_count": 45,
     "metadata": {},
     "output_type": "execute_result"
    }
   ],
   "source": [
    "mda(Y_val, predictions)"
   ]
  },
  {
   "cell_type": "code",
   "execution_count": 46,
   "metadata": {},
   "outputs": [
    {
     "name": "stdout",
     "output_type": "stream",
     "text": [
      "RMSE: 55.424422\n"
     ]
    }
   ],
   "source": [
    "# https://machinelearningmastery.com/time-series-forecasting-performance-measures-with-python/\n",
    "\n",
    "mse = mean_squared_error(Y_val, predictions)\n",
    "rmse = sqrt(mse)\n",
    "print('RMSE: %f' % rmse)"
   ]
  },
  {
   "cell_type": "code",
   "execution_count": 47,
   "metadata": {},
   "outputs": [
    {
     "data": {
      "text/plain": [
       "0      95.469485\n",
       "1      84.060196\n",
       "2      35.008228\n",
       "3     -68.563167\n",
       "4     -58.477397\n",
       "5      -8.825375\n",
       "6     -25.292529\n",
       "7     -53.076950\n",
       "8     -15.896848\n",
       "9    -130.601993\n",
       "10    -37.543602\n",
       "11     33.563701\n",
       "12     51.225079\n",
       "13     46.270459\n",
       "14     68.534875\n",
       "15     78.119394\n",
       "16    -27.387198\n",
       "17     20.334409\n",
       "18     16.581204\n",
       "19      2.586783\n",
       "20    -39.480981\n",
       "21    -10.270532\n",
       "dtype: float64"
      ]
     },
     "execution_count": 47,
     "metadata": {},
     "output_type": "execute_result"
    }
   ],
   "source": [
    "forecast_error = (predictions-Y_val)\n",
    "forecast_error"
   ]
  },
  {
   "cell_type": "code",
   "execution_count": 48,
   "metadata": {},
   "outputs": [
    {
     "data": {
      "text/plain": [
       "2.560783663662998"
      ]
     },
     "execution_count": 48,
     "metadata": {},
     "output_type": "execute_result"
    }
   ],
   "source": [
    "mean_forecast_error = np.mean(forecast_error)\n",
    "mean_forecast_error"
   ]
  },
  {
   "cell_type": "code",
   "execution_count": 49,
   "metadata": {},
   "outputs": [
    {
     "data": {
      "text/plain": [
       "array([[[0.53242707, 0.82242991, 0.34806004, ..., 0.21042198,\n",
       "         0.16765789, 0.28518833]],\n",
       "\n",
       "       [[0.82242991, 0.34806004, 0.28632116, ..., 0.16765789,\n",
       "         0.28518833, 0.51713396]],\n",
       "\n",
       "       [[0.34806004, 0.28632116, 0.13848768, ..., 0.28518833,\n",
       "         0.51713396, 0.49079581]],\n",
       "\n",
       "       ...,\n",
       "\n",
       "       [[0.25035401, 0.06513735, 0.55451713, ..., 0.49221184,\n",
       "         0.48994619, 0.53044463]],\n",
       "\n",
       "       [[0.06513735, 0.55451713, 0.23789295, ..., 0.48994619,\n",
       "         0.53044463, 0.72302464]],\n",
       "\n",
       "       [[0.55451713, 0.23789295, 0.10676862, ..., 0.53044463,\n",
       "         0.72302464, 0.56046446]]])"
      ]
     },
     "execution_count": 49,
     "metadata": {},
     "output_type": "execute_result"
    }
   ],
   "source": [
    "X_train"
   ]
  },
  {
   "cell_type": "code",
   "execution_count": 50,
   "metadata": {},
   "outputs": [
    {
     "data": {
      "text/plain": [
       "(448, 1, 120)"
      ]
     },
     "execution_count": 50,
     "metadata": {},
     "output_type": "execute_result"
    }
   ],
   "source": [
    "X_train.shape"
   ]
  },
  {
   "cell_type": "markdown",
   "metadata": {},
   "source": [
    "## Test (unseen) predictions"
   ]
  },
  {
   "cell_type": "code",
   "execution_count": 51,
   "metadata": {},
   "outputs": [],
   "source": [
    "Xnew = np.array([tseries.iloc[592:712],tseries.iloc[593:713],tseries.iloc[594:714],tseries.iloc[595:715],tseries.iloc[596:716],tseries.iloc[597:717],tseries.iloc[598:718],tseries.iloc[599:719],tseries.iloc[600:720],tseries.iloc[601:721]])"
   ]
  },
  {
   "cell_type": "code",
   "execution_count": 52,
   "metadata": {},
   "outputs": [
    {
     "data": {
      "text/plain": [
       "array([[123.1, 110.8, 128.8, ..., 189.1, 139.1, 107.9],\n",
       "       [110.8, 128.8,  67.5, ..., 139.1, 107.9, 227.3],\n",
       "       [128.8,  67.5, 243.8, ..., 107.9, 227.3,  92.6],\n",
       "       ...,\n",
       "       [132.3, 322.6, 133.8, ...,  84.1, 221.9, 166.3],\n",
       "       [322.6, 133.8,  86. , ..., 221.9, 166.3, 152. ],\n",
       "       [133.8,  86. ,  69.1, ..., 166.3, 152. , 142.5]])"
      ]
     },
     "execution_count": 52,
     "metadata": {},
     "output_type": "execute_result"
    }
   ],
   "source": [
    "Xnew"
   ]
  },
  {
   "cell_type": "code",
   "execution_count": 53,
   "metadata": {},
   "outputs": [
    {
     "name": "stdout",
     "output_type": "stream",
     "text": [
      "1/1 [==============================] - 0s 47ms/step\n"
     ]
    }
   ],
   "source": [
    "Xnew = scaler.fit_transform(Xnew)\n",
    "Xnew\n",
    "Xnewformat = np.reshape(Xnew, (Xnew.shape[0], 1, Xnew.shape[1]))\n",
    "ynew=model.predict(Xnewformat)"
   ]
  },
  {
   "cell_type": "code",
   "execution_count": 54,
   "metadata": {},
   "outputs": [
    {
     "data": {
      "text/plain": [
       "(10, 120)"
      ]
     },
     "execution_count": 54,
     "metadata": {},
     "output_type": "execute_result"
    }
   ],
   "source": [
    "Xnew.shape"
   ]
  },
  {
   "cell_type": "code",
   "execution_count": 55,
   "metadata": {},
   "outputs": [
    {
     "data": {
      "text/plain": [
       "array([[0.28162763],\n",
       "       [0.33351803],\n",
       "       [0.2695848 ],\n",
       "       [0.3834318 ],\n",
       "       [0.45044768],\n",
       "       [0.38557702],\n",
       "       [0.41680443],\n",
       "       [0.4745661 ],\n",
       "       [0.47272503],\n",
       "       [0.49322632]], dtype=float32)"
      ]
     },
     "execution_count": 55,
     "metadata": {},
     "output_type": "execute_result"
    }
   ],
   "source": [
    "ynew"
   ]
  },
  {
   "cell_type": "code",
   "execution_count": 56,
   "metadata": {},
   "outputs": [
    {
     "data": {
      "text/plain": [
       "numpy.ndarray"
      ]
     },
     "execution_count": 56,
     "metadata": {},
     "output_type": "execute_result"
    }
   ],
   "source": [
    "type(ynew)"
   ]
  },
  {
   "cell_type": "code",
   "execution_count": 57,
   "metadata": {},
   "outputs": [
    {
     "data": {
      "text/plain": [
       "(10, 1)"
      ]
     },
     "execution_count": 57,
     "metadata": {},
     "output_type": "execute_result"
    }
   ],
   "source": [
    "ynew.shape"
   ]
  },
  {
   "cell_type": "code",
   "execution_count": 58,
   "metadata": {},
   "outputs": [
    {
     "data": {
      "text/plain": [
       "712    227.3\n",
       "713     92.6\n",
       "714    110.5\n",
       "715     74.8\n",
       "716     84.1\n",
       "717    221.9\n",
       "718    166.3\n",
       "719    152.0\n",
       "720    142.5\n",
       "721    217.3\n",
       "Name: rain, dtype: float64"
      ]
     },
     "execution_count": 58,
     "metadata": {},
     "output_type": "execute_result"
    }
   ],
   "source": [
    "actual=tseries.iloc[712:722]\n",
    "actual"
   ]
  },
  {
   "cell_type": "code",
   "execution_count": 59,
   "metadata": {},
   "outputs": [
    {
     "data": {
      "text/plain": [
       "pandas.core.series.Series"
      ]
     },
     "execution_count": 59,
     "metadata": {},
     "output_type": "execute_result"
    }
   ],
   "source": [
    "type(actual)"
   ]
  },
  {
   "cell_type": "code",
   "execution_count": 60,
   "metadata": {},
   "outputs": [
    {
     "data": {
      "text/plain": [
       "array([227.3,  92.6, 110.5,  74.8,  84.1, 221.9, 166.3, 152. , 142.5,\n",
       "       217.3])"
      ]
     },
     "execution_count": 60,
     "metadata": {},
     "output_type": "execute_result"
    }
   ],
   "source": [
    "actual = np.array(actual)\n",
    "actual"
   ]
  },
  {
   "cell_type": "code",
   "execution_count": 61,
   "metadata": {},
   "outputs": [
    {
     "data": {
      "text/plain": [
       "(10, 1)"
      ]
     },
     "execution_count": 61,
     "metadata": {},
     "output_type": "execute_result"
    }
   ],
   "source": [
    "actual=actual.reshape(10,-1)\n",
    "actual.shape"
   ]
  },
  {
   "cell_type": "code",
   "execution_count": 62,
   "metadata": {},
   "outputs": [
    {
     "data": {
      "text/plain": [
       "array([[227.3],\n",
       "       [ 92.6],\n",
       "       [110.5],\n",
       "       [ 74.8],\n",
       "       [ 84.1],\n",
       "       [221.9],\n",
       "       [166.3],\n",
       "       [152. ],\n",
       "       [142.5],\n",
       "       [217.3]])"
      ]
     },
     "execution_count": 62,
     "metadata": {},
     "output_type": "execute_result"
    }
   ],
   "source": [
    "actual"
   ]
  },
  {
   "cell_type": "code",
   "execution_count": 63,
   "metadata": {},
   "outputs": [],
   "source": [
    "ynew=ynew.reshape(-1)\n",
    "actual=actual.reshape(-1)\n",
    "actualpd=pd.Series(actual)"
   ]
  },
  {
   "cell_type": "code",
   "execution_count": 64,
   "metadata": {},
   "outputs": [
    {
     "data": {
      "text/plain": [
       "5.0"
      ]
     },
     "execution_count": 64,
     "metadata": {},
     "output_type": "execute_result"
    }
   ],
   "source": [
    "np.min(df)"
   ]
  },
  {
   "cell_type": "code",
   "execution_count": 65,
   "metadata": {},
   "outputs": [
    {
     "data": {
      "text/plain": [
       "array([0.28162763, 0.33351803, 0.2695848 , 0.3834318 , 0.45044768,\n",
       "       0.38557702, 0.41680443, 0.4745661 , 0.47272503, 0.49322632],\n",
       "      dtype=float32)"
      ]
     },
     "execution_count": 65,
     "metadata": {},
     "output_type": "execute_result"
    }
   ],
   "source": [
    "ynew"
   ]
  },
  {
   "cell_type": "code",
   "execution_count": 66,
   "metadata": {},
   "outputs": [],
   "source": [
    "maxt=np.max(tseries)"
   ]
  },
  {
   "cell_type": "code",
   "execution_count": 67,
   "metadata": {},
   "outputs": [],
   "source": [
    "mint=np.min(tseries)"
   ]
  },
  {
   "cell_type": "code",
   "execution_count": 68,
   "metadata": {},
   "outputs": [],
   "source": [
    "ynew = ynew * np.abs(maxt-mint) + np.min(tseries)\n",
    "ynewpd=pd.Series(ynew)"
   ]
  },
  {
   "cell_type": "code",
   "execution_count": 69,
   "metadata": {},
   "outputs": [
    {
     "data": {
      "text/plain": [
       "0    227.3\n",
       "1     92.6\n",
       "2    110.5\n",
       "3     74.8\n",
       "4     84.1\n",
       "5    221.9\n",
       "6    166.3\n",
       "7    152.0\n",
       "8    142.5\n",
       "9    217.3\n",
       "dtype: float64"
      ]
     },
     "execution_count": 69,
     "metadata": {},
     "output_type": "execute_result"
    }
   ],
   "source": [
    "actualpd"
   ]
  },
  {
   "cell_type": "code",
   "execution_count": 70,
   "metadata": {},
   "outputs": [
    {
     "data": {
      "text/plain": [
       "0    104.442719\n",
       "1    122.765221\n",
       "2    100.190399\n",
       "3    140.389771\n",
       "4    164.053085\n",
       "5    141.147247\n",
       "6    152.173645\n",
       "7    172.569290\n",
       "8    171.919205\n",
       "9    179.158218\n",
       "dtype: float32"
      ]
     },
     "execution_count": 70,
     "metadata": {},
     "output_type": "execute_result"
    }
   ],
   "source": [
    "ynewpd"
   ]
  },
  {
   "cell_type": "code",
   "execution_count": 71,
   "metadata": {},
   "outputs": [
    {
     "data": {
      "text/plain": [
       "0.8"
      ]
     },
     "execution_count": 71,
     "metadata": {},
     "output_type": "execute_result"
    }
   ],
   "source": [
    "mda(actualpd, ynewpd)"
   ]
  },
  {
   "cell_type": "code",
   "execution_count": 72,
   "metadata": {},
   "outputs": [
    {
     "name": "stdout",
     "output_type": "stream",
     "text": [
      "RMSE: 60.223414\n"
     ]
    }
   ],
   "source": [
    "mse = mean_squared_error(actualpd, ynewpd)\n",
    "rmse = sqrt(mse)\n",
    "print('RMSE: %f' % rmse)"
   ]
  },
  {
   "cell_type": "code",
   "execution_count": 73,
   "metadata": {},
   "outputs": [
    {
     "data": {
      "text/plain": [
       "148.93"
      ]
     },
     "execution_count": 73,
     "metadata": {},
     "output_type": "execute_result"
    }
   ],
   "source": [
    "np.mean(actual)"
   ]
  },
  {
   "cell_type": "code",
   "execution_count": 74,
   "metadata": {},
   "outputs": [
    {
     "data": {
      "text/plain": [
       "0   -122.857281\n",
       "1     30.165221\n",
       "2    -10.309601\n",
       "3     65.589771\n",
       "4     79.953085\n",
       "5    -80.752753\n",
       "6    -14.126355\n",
       "7     20.569290\n",
       "8     29.419205\n",
       "9    -38.141782\n",
       "dtype: float64"
      ]
     },
     "execution_count": 74,
     "metadata": {},
     "output_type": "execute_result"
    }
   ],
   "source": [
    "forecast_error = (ynewpd-actualpd)\n",
    "forecast_error"
   ]
  },
  {
   "cell_type": "code",
   "execution_count": 75,
   "metadata": {},
   "outputs": [
    {
     "data": {
      "text/plain": [
       "-4.049120025634768"
      ]
     },
     "execution_count": 75,
     "metadata": {},
     "output_type": "execute_result"
    }
   ],
   "source": [
    "mean_forecast_error = np.mean(forecast_error)\n",
    "mean_forecast_error"
   ]
  },
  {
   "cell_type": "code",
   "execution_count": 76,
   "metadata": {},
   "outputs": [
    {
     "data": {
      "image/png": "[encoded data removed]",
      "text/plain": [
       "<Figure size 640x480 with 1 Axes>"
      ]
     },
     "metadata": {},
     "output_type": "display_data"
    }
   ],
   "source": [
    "predictons, =plt.plot(ynewpd, label='Predictions')\n",
    "actual, =plt.plot(actualpd, label='Actual')\n",
    "plt.xlabel('Days')\n",
    "plt.ylabel('Rainfall')\n",
    "plt.title(\"Predicted vs. Actual Rainfall\")\n",
    "plt.legend(loc = 'upper center')\n",
    "plt.show()"
   ]
  },
  {
   "cell_type": "code",
   "execution_count": null,
   "metadata": {},
   "outputs": [],
   "source": []
  }
 ],
 "metadata": {
  "kernelspec": {
   "display_name": "Python 3 (ipykernel)",
   "language": "python",
   "name": "python3"
  },
  "language_info": {
   "codemirror_mode": {
    "name": "ipython",
    "version": 3
   },
   "file_extension": ".py",
   "mimetype": "text/x-python",
   "name": "python",
   "nbconvert_exporter": "python",
   "pygments_lexer": "ipython3",
   "version": "3.8.10"
  }
 },
 "nbformat": 4,
 "nbformat_minor": 2
}
